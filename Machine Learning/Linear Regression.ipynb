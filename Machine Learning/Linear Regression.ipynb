{
 "cells": [
  {
   "cell_type": "markdown",
   "metadata": {},
   "source": [
    "***\n",
    "## Linear Regression Algorithm (with Gradient Descent and MSE)\n",
    "***\n",
    "#### 1. Loss Function -> Mean Squared Error (MSE): \n",
    "\n",
    "$$J(m,b) = \\frac{1}{n}\\sum_{i=1}^{n}\\left ( y_i - \\hat{y_i} \\right )^2$$ \n",
    "\n",
    "&emsp;&emsp; where $\\hat{y_i} = \\left ( mx_i + b \\right )$\n",
    "\n",
    "#### 2. Gradient Descent\n",
    "\n",
    "Update Rules:\n",
    "\n",
    "$$m = m - \\alpha dm$$\n",
    "$$b = b - \\alpha db$$\n",
    "\n",
    "where $\\alpha$ is the learning rate.\n",
    "\n",
    "&emsp; Gradient of $MSE$ wrt. $m$ and $b$:\n",
    "\n",
    "$$\\frac{\\partial J}{\\partial m} = \\frac{2}{n}\\sum_{i=1}^{n}-x_i\\left ( y_i - \\hat{y_i} \\right )$$ \n",
    "\n",
    "$$\\frac{\\partial J}{\\partial b} = \\frac{2}{n}\\sum_{i=1}^{n}-\\left ( y_i - \\hat{y_i} \\right )$$ \n",
    "***"
   ]
  },
  {
   "cell_type": "code",
   "execution_count": 39,
   "metadata": {},
   "outputs": [],
   "source": [
    "import numpy as np\n",
    "\n",
    "class LinearRegression:\n",
    "\n",
    "    def __init__(self, learning_rate=0.001, n_iters=1000, verbose=False):\n",
    "        self.lr = learning_rate\n",
    "        self.n_iters = n_iters\n",
    "        self.weights = None\n",
    "        self.bias = None\n",
    "        self.verbose=verbose\n",
    "\n",
    "    def fit(self, X, y):\n",
    "        n_samples, n_features = X.shape\n",
    "\n",
    "        # init parameters\n",
    "        self.weights = np.zeros(n_features)\n",
    "        self.bias = 0\n",
    "\n",
    "        # gradient descent\n",
    "        for i in range(self.n_iters):\n",
    "            y_predicted = np.dot(X, self.weights) + self.bias\n",
    "            # compute gradients\n",
    "            dw = (1 / n_samples) * np.dot(X.T, (y_predicted - y))\n",
    "            db = (1 / n_samples) * np.sum(y_predicted - y)\n",
    "\n",
    "            # update parameters\n",
    "            self.weights -= self.lr * dw\n",
    "            self.bias -= self.lr * db\n",
    "            \n",
    "            cost = self._cost(y, y_predicted)\n",
    "            \n",
    "            if self.verbose:\n",
    "                print(f\"Iter {i} : cost {cost}, m {m}, b {b}\")\n",
    " \n",
    "\n",
    "    def predict(self, X):\n",
    "        y_approximated = np.dot(X, self.weights) + self.bias\n",
    "        return y_approximated\n",
    "    \n",
    "    def _cost(self, y_true, y_pred):\n",
    "        return np.mean((y_true - y_pred)**2)"
   ]
  },
  {
   "cell_type": "code",
   "execution_count": 51,
   "metadata": {},
   "outputs": [
    {
     "data": {
      "image/png": "[encoded data removed]",
      "text/plain": [
       "<Figure size 576x432 with 1 Axes>"
      ]
     },
     "metadata": {
      "needs_background": "light"
     },
     "output_type": "display_data"
    }
   ],
   "source": [
    "import numpy as np\n",
    "import matplotlib.pyplot as plt\n",
    "\n",
    "points = [[0,0], [1,1], [1.9,2], [3,3.2], [4,4.1], [5,5.11]]\n",
    "X = np.array([[p[0]] for p in points])\n",
    "y = np.array([p[1] for p in points])\n",
    "\n",
    "regressor = LinearRegression(learning_rate=0.01, n_iters=100)\n",
    "regressor.fit(X, y)\n",
    "\n",
    "y_pred_line = regressor.predict(X)\n",
    "\n",
    "fig = plt.figure(figsize=(8,6))\n",
    "m1 = plt.scatter(X, y, s=100)\n",
    "plt.plot(X, y_pred_line, color='black', linewidth=1, label=\"Prediction\")\n",
    "plt.show()"
   ]
  },
  {
   "cell_type": "markdown",
   "metadata": {},
   "source": [
    "***\n",
    "## Stochastic Gradient Descent with MSE\n",
    "***\n",
    "Use only one sample to update the parameters.\n",
    "***"
   ]
  },
  {
   "cell_type": "code",
   "execution_count": 45,
   "metadata": {},
   "outputs": [],
   "source": [
    "import numpy as np\n",
    "\n",
    "class StochasticLinearRegression:\n",
    "\n",
    "    def __init__(self, learning_rate=0.001, n_iters=1000, sample_size=1, verbose=False):\n",
    "        self.lr = learning_rate\n",
    "        self.n_iters = n_iters\n",
    "        self.weights = None\n",
    "        self.bias = None\n",
    "        self.sample_size = sample_size\n",
    "        self.verbose=verbose\n",
    "\n",
    "    def fit(self, X, y):\n",
    "        n_samples, n_features = X.shape\n",
    "\n",
    "        # init parameters\n",
    "        self.weights = np.zeros(n_features)\n",
    "        self.bias = 0\n",
    "\n",
    "        # gradient descent\n",
    "        for i in range(self.n_iters):\n",
    "            indexes = np.random.randint(0, n_samples, self.sample_size)\n",
    "            Xs = np.take(X, indexes)\n",
    "            ys = np.take(y, indexes)\n",
    "            \n",
    "            y_predicted = np.dot(X, self.weights) + self.bias\n",
    "            y_predicteds = np.dot(Xs, self.weights) + self.bias\n",
    "            # compute gradients\n",
    "            dw = (1 / self.sample_size) * np.dot(Xs.T, (y_predicteds - ys))\n",
    "            db = (1 / self.sample_size) * np.sum(y_predicteds - ys)\n",
    "\n",
    "            # update parameters\n",
    "            self.weights -= self.lr * dw\n",
    "            self.bias -= self.lr * db\n",
    "            \n",
    "            \n",
    "            cost = self._cost(y, y_predicted)\n",
    "            \n",
    "            if self.verbose:\n",
    "                print(f\"Iter {i} : cost {cost}, m {m}, b {b}\")\n",
    " \n",
    "\n",
    "    def predict(self, X):\n",
    "        y_approximated = np.dot(X, self.weights) + self.bias\n",
    "        return y_approximated\n",
    "    \n",
    "    def _cost(self, y_true, y_pred):\n",
    "        return np.mean((y_true - y_pred)**2)"
   ]
  },
  {
   "cell_type": "code",
   "execution_count": 49,
   "metadata": {},
   "outputs": [
    {
     "name": "stdout",
     "output_type": "stream",
     "text": [
      "Iter 0 : cost 9.693683333333333, m 0.7698750581675177, b 0.273916087142606\n",
      "Iter 1 : cost 5.29367333375, m 0.7698750581675177, b 0.273916087142606\n",
      "Iter 2 : cost 5.295597756854333, m 0.7698750581675177, b 0.273916087142606\n",
      "Iter 3 : cost 5.297503450162105, m 0.7698750581675177, b 0.273916087142606\n",
      "Iter 4 : cost 2.8918108078043043, m 0.7698750581675177, b 0.273916087142606\n",
      "Iter 5 : cost 2.8313420392132485, m 0.7698750581675177, b 0.273916087142606\n",
      "Iter 6 : cost 1.5449803240359916, m 0.7698750581675177, b 0.273916087142606\n",
      "Iter 7 : cost 1.2403552775004278, m 0.7698750581675177, b 0.273916087142606\n",
      "Iter 8 : cost 1.2202153517628413, m 0.7698750581675177, b 0.273916087142606\n",
      "Iter 9 : cost 1.1262385593026665, m 0.7698750581675177, b 0.273916087142606\n"
     ]
    }
   ],
   "source": [
    "regressor = StochasticLinearRegression(learning_rate=0.01, n_iters=10, verbose=True)\n",
    "regressor.fit(X, y)"
   ]
  },
  {
   "cell_type": "markdown",
   "metadata": {},
   "source": [
    "## References\n",
    "- [Gradient Descent From Scratch](https://towardsdatascience.com/gradient-descent-from-scratch-e8b75fa986cc)\n",
    "- [Machine Learning Tutorial Python - 4: Gradient Descent and Cost Function](https://www.youtube.com/watch?v=vsWrXfO3wWw&ab_channel=codebasics)\n",
    "- [Linear Regression in Python - Machine Learning From Scratch 02 - Python Tutorial](https://youtu.be/4swNt7PiamQ?list=PLqnslRFeH2Upcrywf-u2etjdxxkL8nl7E)\n",
    "- [MLfromscratch](https://github.com/python-engineer/MLfromscratch/blob/master/mlfromscratch/linear_regression.py)"
   ]
  },
  {
   "cell_type": "code",
   "execution_count": null,
   "metadata": {},
   "outputs": [],
   "source": []
  }
 ],
 "metadata": {
  "kernelspec": {
   "display_name": "Python 3",
   "language": "python",
   "name": "python3"
  },
  "language_info": {
   "codemirror_mode": {
    "name": "ipython",
    "version": 3
   },
   "file_extension": ".py",
   "mimetype": "text/x-python",
   "name": "python",
   "nbconvert_exporter": "python",
   "pygments_lexer": "ipython3",
   "version": "3.7.7"
  }
 },
 "nbformat": 4,
 "nbformat_minor": 5
}
