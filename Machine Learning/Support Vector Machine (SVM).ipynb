{
 "cells": [
  {
   "cell_type": "markdown",
   "metadata": {},
   "source": [
    "***\n",
    "## SVM Algorithm\n",
    "***\n",
    "\n",
    "#### Linear Model\n",
    "\n",
    "$$w \\cdot x - b = 0$$\n",
    "\n",
    "$$\\begin{matrix} w \\cdot x_i - b \\geq 1~~if~y_i = 1 \\\\ w \\cdot x_i - b \\leq -1~~if~y_i = -1 \\end{matrix}$$\n",
    "\n",
    "$$y_i(w \\cdot x_i - b) \\geq 1$$\n",
    "\n",
    "#### Cost Function : Hinge Loss\n",
    "\n",
    "$$l = max(0, y_i(w \\cdot x_i - b))$$\n",
    "\n",
    "$$l = \\begin{cases} 0 & y \\cdot f(x) \\geq 1 \\\\ 1 - y \\cdot f(x) & otherwise \\end{cases}$$\n",
    "\n",
    "#### Regularization\n",
    "\n",
    "$$J = \\lambda \\left \\| w \\right \\|^2 + \\frac{1}{n}\\sum_{i=1}^{n} max(0, y_i(w \\cdot x_i - b))$$\n",
    "\n",
    "$$J_i = \\begin{cases} \\lambda \\left \\| w \\right \\|^2 & y_i \\cdot f(x) \\geq 1 \\\\ \\lambda \\left \\| w \\right \\|^2 + 1 - y_i(w \\cdot x_i - b) & otherwise \\end{cases}$$\n",
    "\n",
    "#### Gradients\n",
    "\n",
    "$$\\frac{dJ_i}{dw_k} = \\begin{cases} 2 \\lambda w_k & y_i \\cdot f(x) \\geq 1 \\\\ 2 \\lambda w_k - y_i \\cdot x_i & otherwise \\end{cases}$$\n",
    "\n",
    "$$\\frac{dJ_i}{db} = \\begin{cases} 0 & y_i \\cdot f(x) \\geq 1 \\\\ y_i & otherwise \\end{cases}$$\n",
    "\n",
    "#### Update Rule\n",
    "\n",
    "$$w = w - \\alpha dw$$\n",
    "$$b = b - \\alpha db$$\n",
    "\n",
    "&emsp;where $\\alpha$ is the learning rate.\n",
    "\n",
    "***"
   ]
  },
  {
   "cell_type": "code",
   "execution_count": 1,
   "metadata": {},
   "outputs": [],
   "source": [
    "import numpy as np \n",
    "\n",
    "\n",
    "class SVM:\n",
    "\n",
    "    def __init__(self, learning_rate=0.001, lambda_param=0.01, n_iters=1000):\n",
    "        self.lr = learning_rate\n",
    "        self.lambda_param = lambda_param\n",
    "        self.n_iters = n_iters\n",
    "        self.w = None\n",
    "        self.b = None\n",
    "\n",
    "\n",
    "    def fit(self, X, y):\n",
    "        n_samples, n_features = X.shape\n",
    "        \n",
    "        y_ = np.where(y <= 0, -1, 1)\n",
    "        \n",
    "        self.w = np.zeros(n_features)\n",
    "        self.b = 0\n",
    "\n",
    "        for _ in range(self.n_iters):\n",
    "            for idx, x_i in enumerate(X):\n",
    "                condition = y_[idx] * (np.dot(x_i, self.w) - self.b) >= 1\n",
    "                if condition:\n",
    "                    self.w -= self.lr * (2 * self.lambda_param * self.w)\n",
    "                else:\n",
    "                    self.w -= self.lr * (2 * self.lambda_param * self.w - np.dot(x_i, y_[idx]))\n",
    "                    self.b -= self.lr * y_[idx]\n",
    "\n",
    "\n",
    "    def predict(self, X):\n",
    "        approx = np.dot(X, self.w) - self.b\n",
    "        return np.sign(approx)"
   ]
  },
  {
   "cell_type": "code",
   "execution_count": 3,
   "metadata": {},
   "outputs": [
    {
     "name": "stdout",
     "output_type": "stream",
     "text": [
      "Accuracy:  1.0\n",
      "[0.58977016 0.17946483] -0.1520000000000001\n"
     ]
    },
    {
     "data": {
      "image/png": "[encoded data removed]",
      "text/plain": [
       "<Figure size 432x288 with 1 Axes>"
      ]
     },
     "metadata": {
      "needs_background": "light"
     },
     "output_type": "display_data"
    }
   ],
   "source": [
    "import numpy as np\n",
    "import matplotlib.pyplot as plt\n",
    "from sklearn import datasets\n",
    "\n",
    "\n",
    "def accuracy(y_true, y_pred):\n",
    "    accuracy = np.sum(y_true == y_pred) / len(y_true)\n",
    "    return accuracy\n",
    "\n",
    "\n",
    "X, y =  datasets.make_blobs(n_samples=50, n_features=2, centers=2, cluster_std=1.05, random_state=40)\n",
    "y = np.where(y == 0, -1, 1)\n",
    "\n",
    "clf = SVM()\n",
    "clf.fit(X, y)\n",
    "y_pred = clf.predict(X)\n",
    "\n",
    "acc = accuracy(y, y_pred)\n",
    "print (\"Accuracy: \", acc)\n",
    "\n",
    "print(clf.w, clf.b)\n",
    "\n",
    "def visualize_svm():\n",
    "    def get_hyperplane_value(x, w, b, offset):\n",
    "        return (-w[0] * x + b + offset) / w[1]\n",
    "\n",
    "    fig = plt.figure()\n",
    "    ax = fig.add_subplot(1,1,1)\n",
    "    plt.scatter(X[:,0], X[:,1], marker='o',c=y)\n",
    "\n",
    "    x0_1 = np.amin(X[:,0])\n",
    "    x0_2 = np.amax(X[:,0])\n",
    "\n",
    "    x1_1 = get_hyperplane_value(x0_1, clf.w, clf.b, 0)\n",
    "    x1_2 = get_hyperplane_value(x0_2, clf.w, clf.b, 0)\n",
    "\n",
    "    x1_1_m = get_hyperplane_value(x0_1, clf.w, clf.b, -1)\n",
    "    x1_2_m = get_hyperplane_value(x0_2, clf.w, clf.b, -1)\n",
    "\n",
    "    x1_1_p = get_hyperplane_value(x0_1, clf.w, clf.b, 1)\n",
    "    x1_2_p = get_hyperplane_value(x0_2, clf.w, clf.b, 1)\n",
    "\n",
    "    ax.plot([x0_1, x0_2],[x1_1, x1_2], 'y--')\n",
    "    ax.plot([x0_1, x0_2],[x1_1_m, x1_2_m], 'k')\n",
    "    ax.plot([x0_1, x0_2],[x1_1_p, x1_2_p], 'k')\n",
    "\n",
    "    x1_min = np.amin(X[:,1])\n",
    "    x1_max = np.amax(X[:,1])\n",
    "    ax.set_ylim([x1_min-3,x1_max+3])\n",
    "\n",
    "    plt.show()\n",
    "\n",
    "visualize_svm()"
   ]
  },
  {
   "cell_type": "markdown",
   "metadata": {},
   "source": [
    "## References\n",
    "- [SVM (Support Vector Machine) in Python - Machine Learning From Scratch 07 - Python Tutorial](https://youtu.be/UX0f9BNBcsY?list=PLqnslRFeH2Upcrywf-u2etjdxxkL8nl7E)\n",
    "- [MLfromscratch](https://github.com/python-engineer/MLfromscratch/blob/master/mlfromscratch/svm.py)"
   ]
  }
 ],
 "metadata": {
  "kernelspec": {
   "display_name": "Python 3",
   "language": "python",
   "name": "python3"
  },
  "language_info": {
   "codemirror_mode": {
    "name": "ipython",
    "version": 3
   },
   "file_extension": ".py",
   "mimetype": "text/x-python",
   "name": "python",
   "nbconvert_exporter": "python",
   "pygments_lexer": "ipython3",
   "version": "3.7.7"
  }
 },
 "nbformat": 4,
 "nbformat_minor": 4
}
