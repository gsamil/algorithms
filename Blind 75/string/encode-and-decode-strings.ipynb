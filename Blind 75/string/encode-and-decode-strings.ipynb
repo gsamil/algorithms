{
 "cells": [
  {
   "cell_type": "markdown",
   "metadata": {},
   "source": [
    "### Encode and Decode Strings\n",
    "\n",
    "```\n",
    "medium\n",
    "```\n",
    "\n",
    "---\n",
    "\n",
    "Design an algorithm to encode a list of strings to a string. The encoded string is then sent over the network and is decoded back to the original list of strings.\n",
    "\n",
    "Please implement `encode` and `decode`.\n",
    "\n",
    "**Example 1:**\n",
    "\n",
    "```\n",
    "Input: [\"lint\",\"code\",\"love\",\"you\"]\n",
    "Output: [\"lint\",\"code\",\"love\",\"you\"]\n",
    "Explanation:\n",
    "One possible encode method is: \"lint;code;love;you\"\n",
    "```\n",
    "\n",
    "**Example 2:**\n",
    "\n",
    "```\n",
    "Input: [\"we\", \"say\", \":\", \"yes\"]\n",
    "Output: [\"we\", \"say\", \":\", \"yes\"]\n",
    "Explanation:\n",
    "One possible encode method is: \"we;say;:::;yes\"\n",
    "```\n"
   ]
  },
  {
   "cell_type": "markdown",
   "metadata": {},
   "source": [
    "### Solution"
   ]
  },
  {
   "cell_type": "code",
   "execution_count": 1,
   "metadata": {},
   "outputs": [],
   "source": [
    "class Solution:\n",
    "    \"\"\"\n",
    "    @param: strs: a list of strings\n",
    "    @return: encodes a list of strings to a single string.\n",
    "    \"\"\"\n",
    "    def encode(self, strs):\n",
    "        def encode_str(s: str):\n",
    "            return \"|\".join([str(ord(s_)) for s_ in s])\n",
    "        return \"#\".join([encode_str(s) for s in strs])\n",
    "\n",
    "    \"\"\"\n",
    "    @param: str: A string\n",
    "    @return: decodes a single string to a list of strings\n",
    "    \"\"\"\n",
    "    def decode(self, str):\n",
    "        return [\"\".join([chr(int(s)) for s in s.split('|')]) for s in str.split('#')]"
   ]
  },
  {
   "cell_type": "markdown",
   "metadata": {},
   "source": [
    "### Test"
   ]
  },
  {
   "cell_type": "code",
   "execution_count": 4,
   "metadata": {},
   "outputs": [
    {
     "name": "stdout",
     "output_type": "stream",
     "text": [
      "prediction: ['lint', 'code', 'love', 'you'],\tresult: ['lint', 'code', 'love', 'you']\n",
      "prediction: ['we', 'say', ':', 'yes'],\tresult: ['we', 'say', ':', 'yes']\n"
     ]
    }
   ],
   "source": [
    "for strs in [\n",
    "    [\"lint\",\"code\",\"love\",\"you\"],\n",
    "    [\"we\", \"say\", \":\", \"yes\"],\n",
    "]:\n",
    "    prediction = Solution().decode(Solution().encode(strs))\n",
    "    print(f\"prediction: {prediction},\\tresult: {strs}\")"
   ]
  },
  {
   "cell_type": "markdown",
   "metadata": {},
   "source": [
    "### References\n",
    "\n",
    "- [Lintcode](https://www.lintcode.com/problem/659/)\n",
    "- [Neetcode - Youtube](https://youtu.be/B1k_sxOSgv8?list=PLot-Xpze53ldVwtstag2TL4HQhAnC8ATf)\n",
    "- [Neetcode - Github](https://github.com/neetcode-gh/leetcode/blob/main/python/0271-encode-and-decode-strings.py)"
   ]
  }
 ],
 "metadata": {
  "kernelspec": {
   "display_name": "venv",
   "language": "python",
   "name": "python3"
  },
  "language_info": {
   "codemirror_mode": {
    "name": "ipython",
    "version": 3
   },
   "file_extension": ".py",
   "mimetype": "text/x-python",
   "name": "python",
   "nbconvert_exporter": "python",
   "pygments_lexer": "ipython3",
   "version": "3.10.13"
  }
 },
 "nbformat": 4,
 "nbformat_minor": 2
}
