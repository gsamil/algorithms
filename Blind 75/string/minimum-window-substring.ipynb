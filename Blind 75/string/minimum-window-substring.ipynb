{
 "cells": [
  {
   "cell_type": "markdown",
   "metadata": {},
   "source": [
    "### Minimum Window Substring\n",
    "\n",
    "```\n",
    "hard\n",
    "```\n",
    "\n",
    "---\n",
    "\n",
    "Given two strings `s` and `t` of lengths `m` and `n` respectively, return the minimum window substring of `s` such that every character in `t` (including duplicates) is included in the window. If there is no such substring, return the empty string `\"\"`.\n",
    "\n",
    "The testcases will be generated such that the answer is unique.\n",
    "\n",
    "**Example 1:**\n",
    "\n",
    "```\n",
    "Input: s = \"ADOBECODEBANC\", t = \"ABC\"\n",
    "Output: \"BANC\"\n",
    "Explanation: The minimum window substring \"BANC\" includes 'A', 'B', and 'C' from string t.\n",
    "```\n",
    "\n",
    "**Example 2:**\n",
    "\n",
    "```\n",
    "Input: s = \"a\", t = \"a\"\n",
    "Output: \"a\"\n",
    "Explanation: The entire string s is the minimum window.\n",
    "```\n",
    "\n",
    "**Example 3:**\n",
    "\n",
    "```\n",
    "Input: s = \"a\", t = \"aa\"\n",
    "Output: \"\"\n",
    "Explanation: Both 'a's from t must be included in the window.\n",
    "Since the largest window of s only has one 'a', return empty string.\n",
    "```\n",
    "\n",
    "**Constraints:**\n",
    "\n",
    "- `m == s.length`\n",
    "- `n == t.length`\n",
    "- `1 <= m, n <= 105`\n",
    "- `s` and `t` consist of uppercase and lowercase English letters.\n",
    "\n",
    "**Follow up:** Could you find an algorithm that runs in `O(m + n)` time?"
   ]
  },
  {
   "cell_type": "markdown",
   "metadata": {},
   "source": [
    "### Solution"
   ]
  },
  {
   "cell_type": "code",
   "execution_count": 8,
   "metadata": {},
   "outputs": [],
   "source": [
    "class Solution:\n",
    "    def minWindow(self, s: str, t: str) -> str:\n",
    "        \"\"\"\n",
    "        We define 2 pointers; l and r\n",
    "        We define a dictionary for the counts of characters in s[l:r]; have_dict\n",
    "        We define a dictonary for the counts of characters in t; need_dict\n",
    "        We define 2 variables for the count of characters that we have and need; have_count, need_count\n",
    "        We define a result variable that will keep [l, r] at each step, as we need to return the substring; res\n",
    "        We define a variable to keep the count of charcters in s[l:r]; res_len\n",
    "\n",
    "        1. Create need_dict using t\n",
    "        2. Iterate r through s:\n",
    "            i. Update have_dict\n",
    "            ii. Check if current character is in need_dict & counts are the same -> increment have_count\n",
    "            iii. While have_count == need_count\n",
    "                a. Update res if it has smaller length\n",
    "                b. Remove the character at the left pointer from sliding window\n",
    "                c. If the number of chars c in have_dict < number of chars c in need_dict, decrement have_count\n",
    "                d. Increment left pointer\n",
    "        \"\"\"\n",
    "        \n",
    "        if t == \"\": return \"\"\n",
    "\n",
    "        l = 0\n",
    "        have_dict, need_dict = {}, {}\n",
    "        for i in t:\n",
    "            need_dict[i] = need_dict.get(i, 0) + 1\n",
    "        have_count, need_count = 0, len(need_dict)\n",
    "        res = [-1, -1]\n",
    "        res_len = float(\"inf\")\n",
    "\n",
    "        for r in range(len(s)):\n",
    "            have_dict[s[r]] = have_dict.get(s[r], 0) + 1\n",
    "\n",
    "            if s[r] in need_dict and have_dict[s[r]] == need_dict[s[r]]:\n",
    "                have_count += 1\n",
    "            \n",
    "            while have_count == need_count:\n",
    "                if res_len > r - l + 1:\n",
    "                    res = [l, r]\n",
    "                    res_len = r - l + 1\n",
    "                \n",
    "                have_dict[s[l]] -= 1\n",
    "\n",
    "                if s[l] in need_dict and have_dict[s[l]] < need_dict[s[l]]:\n",
    "                    have_count -= 1\n",
    "                \n",
    "                l += 1\n",
    "        \n",
    "        return s[res[0]: res[1]+1] if res[0] != -1 else \"\""
   ]
  },
  {
   "cell_type": "markdown",
   "metadata": {},
   "source": [
    "### Test"
   ]
  },
  {
   "cell_type": "code",
   "execution_count": 9,
   "metadata": {},
   "outputs": [],
   "source": [
    "for s, t, result in [\n",
    "    (\"ADOBECODEBANC\", \"ABC\", \"BANC\"),\n",
    "    (\"a\", \"a\", \"a\"),\n",
    "    (\"a\", \"aa\", \"\"),\n",
    "]:\n",
    "    prediction = Solution().minWindow(s, t)\n",
    "    assert prediction == result, f\"{result} expected for {s} and {t}, got {prediction}\""
   ]
  },
  {
   "cell_type": "markdown",
   "metadata": {},
   "source": [
    "### References\n",
    "\n",
    "- [Leetcode](https://leetcode.com/problems/minimum-window-substring/)\n",
    "- [Neetcode - Youtube](https://youtu.be/jSto0O4AJbM?list=PLot-Xpze53ldVwtstag2TL4HQhAnC8ATf)\n",
    "- [Neetcode - Github](https://github.com/neetcode-gh/leetcode/blob/main/python/0076-minimum-window-substring.py)"
   ]
  }
 ],
 "metadata": {
  "kernelspec": {
   "display_name": "venv",
   "language": "python",
   "name": "python3"
  },
  "language_info": {
   "codemirror_mode": {
    "name": "ipython",
    "version": 3
   },
   "file_extension": ".py",
   "mimetype": "text/x-python",
   "name": "python",
   "nbconvert_exporter": "python",
   "pygments_lexer": "ipython3",
   "version": "3.10.13"
  }
 },
 "nbformat": 4,
 "nbformat_minor": 2
}
