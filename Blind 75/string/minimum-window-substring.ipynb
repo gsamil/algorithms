{
 "cells": [
  {
   "cell_type": "markdown",
   "metadata": {},
   "source": [
    "### Minimum Window Substring\n",
    "\n",
    "```\n",
    "hard\n",
    "```\n",
    "\n",
    "---\n",
    "\n",
    "Given two strings `s` and `t` of lengths `m` and `n` respectively, return the minimum window substring of `s` such that every character in `t` (including duplicates) is included in the window. If there is no such substring, return the empty string `\"\"`.\n",
    "\n",
    "The testcases will be generated such that the answer is unique.\n",
    "\n",
    "**Example 1:**\n",
    "\n",
    "```\n",
    "Input: s = \"ADOBECODEBANC\", t = \"ABC\"\n",
    "Output: \"BANC\"\n",
    "Explanation: The minimum window substring \"BANC\" includes 'A', 'B', and 'C' from string t.\n",
    "```\n",
    "\n",
    "**Example 2:**\n",
    "\n",
    "```\n",
    "Input: s = \"a\", t = \"a\"\n",
    "Output: \"a\"\n",
    "Explanation: The entire string s is the minimum window.\n",
    "```\n",
    "\n",
    "**Example 3:**\n",
    "\n",
    "```\n",
    "Input: s = \"a\", t = \"aa\"\n",
    "Output: \"\"\n",
    "Explanation: Both 'a's from t must be included in the window.\n",
    "Since the largest window of s only has one 'a', return empty string.\n",
    "```\n",
    "\n",
    "**Constraints:**\n",
    "\n",
    "- `m == s.length`\n",
    "- `n == t.length`\n",
    "- `1 <= m, n <= 105`\n",
    "- `s` and `t` consist of uppercase and lowercase English letters.\n",
    "\n",
    "**Follow up:** Could you find an algorithm that runs in `O(m + n)` time?"
   ]
  },
  {
   "cell_type": "markdown",
   "metadata": {},
   "source": [
    "### Solution"
   ]
  },
  {
   "cell_type": "code",
   "execution_count": 1,
   "metadata": {},
   "outputs": [],
   "source": [
    "class Solution:\n",
    "    def minWindow(self, s: str, t: str) -> str:\n",
    "        if t == \"\": return \"\"\n",
    "\n",
    "        # Define a dictionary to store the number of each character in sliding window\n",
    "        # and a dictionar to store the number of each character in t\n",
    "        window, count_t = {}, {}\n",
    "\n",
    "        # Initialize the count_t dictionary\n",
    "        for char in t:\n",
    "            count_t[char] = count_t.get(char, 0) + 1\n",
    "        \n",
    "        # Define 2 variables to store the number of characters we have in sliding window and no characters we need\n",
    "        have, need = 0, len(count_t)\n",
    "\n",
    "        res, res_len = [-1, -1], float(\"inf\")\n",
    "        l = 0\n",
    "\n",
    "        for r in range(len(s)):\n",
    "            c = s[r]\n",
    "            window[c] = window.get(c, 0) + 1\n",
    "\n",
    "            # If the number of character c in sliding window is the same as the number of character c in t, we have one more character we need\n",
    "            if c in count_t and window[c] == count_t[c]:\n",
    "                have += 1\n",
    "            \n",
    "            while have == need:\n",
    "                # If the length of current sliding window is smaller than the length of previous sliding window, update the result\n",
    "                if r - l + 1 < res_len:\n",
    "                    res = [l, r]\n",
    "                    res_len = r - l + 1\n",
    "                \n",
    "                # Move the left pointer to right by 1\n",
    "                c = s[l]\n",
    "                window[c] -= 1\n",
    "\n",
    "                # If the number of character c in sliding window is smaller than the number of character c in t, we have one less character we need\n",
    "                if c in count_t and window[c] < count_t[c]:\n",
    "                    have -= 1\n",
    "                \n",
    "                l += 1\n",
    "                \n",
    "        return s[res[0]:res[1]+1] if res[0] != -1 else \"\"\n"
   ]
  },
  {
   "cell_type": "markdown",
   "metadata": {},
   "source": [
    "### Test"
   ]
  },
  {
   "cell_type": "code",
   "execution_count": 3,
   "metadata": {},
   "outputs": [],
   "source": [
    "for s, t, result in [\n",
    "    (\"ADOBECODEBANC\", \"ABC\", \"BANC\"),\n",
    "    (\"a\", \"a\", \"a\"),\n",
    "    (\"a\", \"aa\", \"\"),\n",
    "]:\n",
    "    prediction = Solution().minWindow(s, t)\n",
    "    assert prediction == result, f\"{result} expected for {s} and {t}, got {prediction}\""
   ]
  },
  {
   "cell_type": "markdown",
   "metadata": {},
   "source": [
    "### References\n",
    "\n",
    "- [Leetcode](https://leetcode.com/problems/minimum-window-substring/)\n",
    "- [Neetcode - Youtube](https://youtu.be/jSto0O4AJbM?list=PLot-Xpze53ldVwtstag2TL4HQhAnC8ATf)\n",
    "- [Neetcode - Github](https://github.com/neetcode-gh/leetcode/blob/main/python/0076-minimum-window-substring.py)"
   ]
  }
 ],
 "metadata": {
  "kernelspec": {
   "display_name": "venv",
   "language": "python",
   "name": "python3"
  },
  "language_info": {
   "codemirror_mode": {
    "name": "ipython",
    "version": 3
   },
   "file_extension": ".py",
   "mimetype": "text/x-python",
   "name": "python",
   "nbconvert_exporter": "python",
   "pygments_lexer": "ipython3",
   "version": "3.10.13"
  }
 },
 "nbformat": 4,
 "nbformat_minor": 2
}
