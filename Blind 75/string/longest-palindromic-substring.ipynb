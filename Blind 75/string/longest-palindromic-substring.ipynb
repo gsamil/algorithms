{
 "cells": [
  {
   "cell_type": "markdown",
   "metadata": {},
   "source": [
    "### Longest Palindromic Substring\n",
    "\n",
    "```\n",
    "medium\n",
    "```\n",
    "\n",
    "---\n",
    "\n",
    "Given a string `s`, return the longest palindromic substring in `s`.\n",
    "\n",
    "**Example 1:**\n",
    "\n",
    "```\n",
    "Input: s = \"babad\"\n",
    "Output: \"bab\"\n",
    "Explanation: \"aba\" is also a valid answer.\n",
    "```\n",
    "\n",
    "**Example 2:**\n",
    "\n",
    "```\n",
    "Input: s = \"cbbd\"\n",
    "Output: \"bb\"\n",
    "```\n",
    "\n",
    "**Constraints:**\n",
    "\n",
    "- `1 <= s.length <= 1000`\n",
    "- `s` consist of only digits and English letters."
   ]
  },
  {
   "cell_type": "markdown",
   "metadata": {},
   "source": [
    "### Solution"
   ]
  },
  {
   "cell_type": "code",
   "execution_count": 1,
   "metadata": {},
   "outputs": [],
   "source": [
    "class Solution:\n",
    "    def longestPalindrome(self, s: str) -> str:\n",
    "        \"\"\"\n",
    "        Brute force solution\n",
    "        Iterate each char in s:\n",
    "            assume current char is mid point, expand to right and left while sub-string is still a palindrome\n",
    "            if current palindromic substring is longer that previous one, replace it.\n",
    "        \"\"\"\n",
    "\n",
    "        res = \"\"\n",
    "\n",
    "        for i in range(len(s)):\n",
    "            for l, r in [\n",
    "                (i, i), # for even length palindrome\n",
    "                (i, i + 1), # for odd length palindrome\n",
    "            ]:\n",
    "                while l >= 0 and r <= len(s) - 1 and s[l] == s[r]:\n",
    "                    if r - l + 1 > len(res):\n",
    "                        res = s[l:r+1]\n",
    "                    l -= 1\n",
    "                    r += 1\n",
    "        \n",
    "        return res"
   ]
  },
  {
   "cell_type": "markdown",
   "metadata": {},
   "source": [
    "### Test"
   ]
  },
  {
   "cell_type": "code",
   "execution_count": 2,
   "metadata": {},
   "outputs": [],
   "source": [
    "for s, result in [\n",
    "    (\"babad\", [\"bab\", \"aba\"]),\n",
    "    (\"cbbd\", [\"bb\"])  \n",
    "]:\n",
    "    prediction = Solution().longestPalindrome(s)\n",
    "    assert prediction in result, f\"{result} expected for {s}, got {prediction}\""
   ]
  },
  {
   "cell_type": "markdown",
   "metadata": {},
   "source": [
    "### References\n",
    "\n",
    "- [Leetcode](https://leetcode.com/problems/longest-palindromic-substring/)\n",
    "- [Neetcode - Youtube](https://youtu.be/XYQecbcd6_c?list=PLot-Xpze53ldVwtstag2TL4HQhAnC8ATf)\n",
    "- [Neetcode - Github](https://github.com/neetcode-gh/leetcode/blob/main/python/0005-longest-palindromic-substring.py)"
   ]
  }
 ],
 "metadata": {
  "kernelspec": {
   "display_name": "venv",
   "language": "python",
   "name": "python3"
  },
  "language_info": {
   "codemirror_mode": {
    "name": "ipython",
    "version": 3
   },
   "file_extension": ".py",
   "mimetype": "text/x-python",
   "name": "python",
   "nbconvert_exporter": "python",
   "pygments_lexer": "ipython3",
   "version": "3.10.13"
  }
 },
 "nbformat": 4,
 "nbformat_minor": 2
}
