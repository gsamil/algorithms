{
 "cells": [
  {
   "cell_type": "markdown",
   "metadata": {},
   "source": [
    "### Longest Repeating Character Replacement\n",
    "\n",
    "`medium`\n",
    "\n",
    "---\n",
    "\n",
    "You are given a string `s` and an integer `k`. You can choose any character of the string and change it to any other uppercase English character. You can perform this operation at most `k` times.\n",
    "\n",
    "Return *the length of the longest substring containing the same letter you can get after performing the above operations*.\n",
    "\n",
    "**Example 1:**\n",
    "\n",
    "```\n",
    "Input: s = \"ABAB\", k = 2\n",
    "Output: 4\n",
    "Explanation: Replace the two 'A's with two 'B's or vice versa.\n",
    "```\n",
    "\n",
    "**Example 2:**\n",
    "\n",
    "```\n",
    "Input: s = \"AABABBA\", k = 1\n",
    "Output: 4\n",
    "Explanation: Replace the one 'A' in the middle with 'B' and form \"AABBBBA\".\n",
    "The substring \"BBBB\" has the longest repeating letters, which is 4.\n",
    "There may exists other ways to achieve this answer too.\n",
    "```\n",
    "\n",
    "**Constraints:**\n",
    "\n",
    "- `1 <= s.length <= 105`\n",
    "- `s` consists of only uppercase English letters.\n",
    "- `0 <= k <= s.length`"
   ]
  },
  {
   "cell_type": "code",
   "execution_count": 1,
   "metadata": {},
   "outputs": [],
   "source": [
    "class Solution:\n",
    "    def characterReplacement(self, s: str, k: int) -> int:\n",
    "        \"\"\" This function uses a sliding window to solve the problem.\n",
    "        The window is defined by two pointers, l and r, which are the left and right boundaries of the window.\n",
    "        The window is defined by the substring s[l:r+1].\n",
    "        The window is valid if the number of characters that are not the most frequent character is less than or equal to k.\n",
    "        It has a time complexity of O(n) and a space complexity of O(n)\n",
    "        \"\"\"\n",
    "\n",
    "        # count is a dictionary that maps a character to the number of times it appears in the window\n",
    "        count = {}\n",
    "        res = 0\n",
    "\n",
    "        l = 0\n",
    "        max_freq = 0\n",
    "        for r in range(len(s)):\n",
    "            # update the count of the character at the right boundary of the window\n",
    "            count[s[r]] = count.get(s[r], 0) + 1\n",
    "            max_freq = max(max_freq, count[s[r]])\n",
    "\n",
    "            # if the window is not valid, move the left boundary of the window to the right\n",
    "            while r - l + 1 - max_freq > k:\n",
    "                count[s[l]] -= 1\n",
    "                l += 1\n",
    "\n",
    "            res = max(res, r - l + 1)\n",
    "\n",
    "        return res\n",
    "        "
   ]
  },
  {
   "cell_type": "code",
   "execution_count": 3,
   "metadata": {},
   "outputs": [],
   "source": [
    "for s, k, result in [\n",
    "    (\"ABAB\", 2, 4),\n",
    "    (\"AABABBA\", 1, 4),\n",
    "]:\n",
    "    prediction = Solution().characterReplacement(s, k)\n",
    "    assert prediction == result, f\"{result} expected for {s}, got {prediction}\""
   ]
  },
  {
   "cell_type": "markdown",
   "metadata": {},
   "source": [
    "### References\n",
    "\n",
    "- [Leetcode](https://leetcode.com/problems/longest-repeating-character-replacement/)\n",
    "- [Neetcode](https://youtu.be/gqXU1UyA8pk?list=PLot-Xpze53ldVwtstag2TL4HQhAnC8ATf)"
   ]
  }
 ],
 "metadata": {
  "kernelspec": {
   "display_name": "venv",
   "language": "python",
   "name": "python3"
  },
  "language_info": {
   "codemirror_mode": {
    "name": "ipython",
    "version": 3
   },
   "file_extension": ".py",
   "mimetype": "text/x-python",
   "name": "python",
   "nbconvert_exporter": "python",
   "pygments_lexer": "ipython3",
   "version": "3.10.13"
  }
 },
 "nbformat": 4,
 "nbformat_minor": 2
}
