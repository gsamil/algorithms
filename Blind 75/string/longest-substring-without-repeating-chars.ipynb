{
 "cells": [
  {
   "cell_type": "markdown",
   "metadata": {},
   "source": [
    "### Longest Substring Without Repeating Characters\n",
    "\n",
    "```\n",
    "medium\n",
    "```\n",
    "\n",
    "Given a string `s`, find the length of the longest substring without repeating characters.\n",
    "\n",
    "**Example 1:**\n",
    "\n",
    "```\n",
    "Input: s = \"abcabcbb\"\n",
    "Output: 3\n",
    "Explanation: The answer is \"abc\", with the length of 3.\n",
    "```\n",
    "\n",
    "**Example 2:**\n",
    "\n",
    "```\n",
    "Input: s = \"bbbbb\"\n",
    "Output: 1\n",
    "Explanation: The answer is \"b\", with the length of 1.\n",
    "```\n",
    "\n",
    "**Example 3:**\n",
    "\n",
    "```\n",
    "Input: s = \"pwwkew\"\n",
    "Output: 3\n",
    "Explanation: The answer is \"wke\", with the length of 3.\n",
    "Notice that the answer must be a substring, \"pwke\" is a subsequence and not a substring.\n",
    "```\n",
    "\n",
    "**Constraints:**\n",
    "\n",
    "- `0 <= s.length <= 5 * 104`\n",
    "- `s` consists of English letters, digits, symbols and spaces."
   ]
  },
  {
   "cell_type": "code",
   "execution_count": 9,
   "metadata": {},
   "outputs": [],
   "source": [
    "class Solution:\n",
    "    def lengthOfLongestSubstring(self, s: str) -> int:\n",
    "        \"\"\" This function uses a sliding window approach to find the longest substring without repeating characters.\n",
    "        It has 2 pointers, l and r, to represent the left and right bound of the window.\n",
    "        It also uses a set to store the characters in the current window.\n",
    "        It has a time complexity of O(n) and a space complexity of O(n).\n",
    "        \"\"\"\n",
    "        # create a set to store the characters in the current window, so O(n) space complexity\n",
    "        char_set = set()\n",
    "        # create two pointers, l and r, to represent the left and right bound of the window\n",
    "        l = 0\n",
    "        # create a variable to store the max length\n",
    "        result = 0\n",
    "        # iterate through the string, so O(n) time complexity\n",
    "        for r in range(len(s)):\n",
    "            # if the character at the right bound is in the set, \n",
    "            # remove the character at the left bound from the set and increment the left bound\n",
    "            while s[r] in char_set:\n",
    "                char_set.remove(s[l])\n",
    "                l += 1\n",
    "            # add the character at the right bound to the set\n",
    "            char_set.add(s[r])\n",
    "            # update the max length\n",
    "            result = max(result, r - l + 1)\n",
    "        \n",
    "        # return the max length\n",
    "        return result\n"
   ]
  },
  {
   "cell_type": "code",
   "execution_count": 10,
   "metadata": {},
   "outputs": [],
   "source": [
    "for s, result in [\n",
    "    (\"abcabcbb\", 3),\n",
    "    (\"bbbbb\", 1),\n",
    "    (\"pwwkew\", 3),\n",
    "]:\n",
    "    prediction = Solution().lengthOfLongestSubstring(s)\n",
    "    assert prediction == result, f\"{result} expected for {s}, got {prediction}\""
   ]
  },
  {
   "cell_type": "markdown",
   "metadata": {},
   "source": [
    "### References\n",
    "\n",
    "- [Leetcode - 3. Longest Substring Without Repeating Characters](https://leetcode.com/problems/longest-substring-without-repeating-characters/description/)\n",
    "- [Neetcode - Longest Substring Without Repeating Characters - Leetcode 3 - Python](https://youtu.be/wiGpQwVHdE0?list=PLot-Xpze53ldVwtstag2TL4HQhAnC8ATf)"
   ]
  }
 ],
 "metadata": {
  "kernelspec": {
   "display_name": "venv",
   "language": "python",
   "name": "python3"
  },
  "language_info": {
   "codemirror_mode": {
    "name": "ipython",
    "version": 3
   },
   "file_extension": ".py",
   "mimetype": "text/x-python",
   "name": "python",
   "nbconvert_exporter": "python",
   "pygments_lexer": "ipython3",
   "version": "3.10.13"
  }
 },
 "nbformat": 4,
 "nbformat_minor": 2
}
