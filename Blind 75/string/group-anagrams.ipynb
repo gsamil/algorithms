{
 "cells": [
  {
   "cell_type": "markdown",
   "metadata": {},
   "source": [
    "### Group Anagrams\n",
    "\n",
    "```\n",
    "medium\n",
    "```\n",
    "\n",
    "---\n",
    "\n",
    "Given an array of strings `strs`, group the anagrams together. You can return the answer in any order.\n",
    "\n",
    "An Anagram is a word or phrase formed by rearranging the letters of a different word or phrase, typically using all the original letters exactly once.\n",
    "\n",
    "**Example 1:**\n",
    "\n",
    "```\n",
    "Input: strs = [\"eat\",\"tea\",\"tan\",\"ate\",\"nat\",\"bat\"]\n",
    "Output: [[\"bat\"],[\"nat\",\"tan\"],[\"ate\",\"eat\",\"tea\"]]\n",
    "```\n",
    "\n",
    "**Example 2:**\n",
    "\n",
    "```\n",
    "Input: strs = [\"\"]\n",
    "Output: [[\"\"]]\n",
    "```\n",
    "\n",
    "**Example 3:**\n",
    "\n",
    "```\n",
    "Input: strs = [\"a\"]\n",
    "Output: [[\"a\"]]\n",
    "```\n",
    "\n",
    "**Constraints:**\n",
    "\n",
    "- `1 <= strs.length <= 10^4`\n",
    "- `0 <= strs[i].length <= 100`\n",
    "- `strs[i]` consists of lowercase English letters."
   ]
  },
  {
   "cell_type": "markdown",
   "metadata": {},
   "source": [
    "### Solution"
   ]
  },
  {
   "cell_type": "code",
   "execution_count": 5,
   "metadata": {},
   "outputs": [],
   "source": [
    "from collections import defaultdict\n",
    "\n",
    "class Solution:\n",
    "    def groupAnagrams(self, strs: list[str]) -> list[list[str]]:\n",
    "        \"\"\"\n",
    "        We need a function that will convert a string into another immutable object, and this object must be same for anagrams.\n",
    "        \"\"\"\n",
    "\n",
    "        def convert_to_anagram_key(s: str) -> tuple[int]:\n",
    "            count_s = [0] * 26\n",
    "            for si in s:\n",
    "                count_s[ord(si) - ord(\"a\")] += 1\n",
    "            return tuple(count_s)\n",
    "\n",
    "        anagrams = defaultdict(list)\n",
    "        for s in strs:\n",
    "            s_anagram_key = convert_to_anagram_key(s)\n",
    "            anagrams[s_anagram_key].append(s)\n",
    "\n",
    "        return anagrams.values()"
   ]
  },
  {
   "cell_type": "markdown",
   "metadata": {},
   "source": [
    "### Test"
   ]
  },
  {
   "cell_type": "code",
   "execution_count": 10,
   "metadata": {},
   "outputs": [
    {
     "name": "stdout",
     "output_type": "stream",
     "text": [
      "prediction: [['eat', 'tea', 'ate'], ['tan', 'nat'], ['bat']],\tresult: [['bat'], ['nat', 'tan'], ['ate', 'eat', 'tea']]\n",
      "prediction: [['']],\tresult: [['']]\n",
      "prediction: [['a']],\tresult: [['a']]\n"
     ]
    }
   ],
   "source": [
    "for strs, result in [\n",
    "    (\n",
    "        [\"eat\", \"tea\", \"tan\", \"ate\", \"nat\", \"bat\"],\n",
    "        [[\"bat\"], [\"nat\", \"tan\"], [\"ate\", \"eat\", \"tea\"]],\n",
    "    ),\n",
    "    ([\"\"], [[\"\"]]),\n",
    "    ([\"a\"], [[\"a\"]]),\n",
    "]:\n",
    "    prediction = list(Solution().groupAnagrams(strs))\n",
    "    print(f\"prediction: {prediction},\\tresult: {result}\")"
   ]
  },
  {
   "cell_type": "markdown",
   "metadata": {},
   "source": [
    "### References\n",
    "\n",
    "- [Leetcode](https://leetcode.com/problems/group-anagrams)\n",
    "- [Neetcode - Youtube](https://youtu.be/vzdNOK2oB2E?list=PLot-Xpze53ldVwtstag2TL4HQhAnC8ATf)\n",
    "- [Neetcode - Github](https://github.com/neetcode-gh/leetcode/blob/main/python/0049-group-anagrams.py)"
   ]
  }
 ],
 "metadata": {
  "kernelspec": {
   "display_name": "venv",
   "language": "python",
   "name": "python3"
  },
  "language_info": {
   "codemirror_mode": {
    "name": "ipython",
    "version": 3
   },
   "file_extension": ".py",
   "mimetype": "text/x-python",
   "name": "python",
   "nbconvert_exporter": "python",
   "pygments_lexer": "ipython3",
   "version": "3.10.13"
  }
 },
 "nbformat": 4,
 "nbformat_minor": 2
}
