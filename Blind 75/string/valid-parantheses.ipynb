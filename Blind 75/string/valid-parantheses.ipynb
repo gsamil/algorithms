{
 "cells": [
  {
   "cell_type": "markdown",
   "metadata": {},
   "source": [
    "### Valid Parentheses\n",
    "\n",
    "```\n",
    "easy\n",
    "```\n",
    "\n",
    "---\n",
    "\n",
    "Given a string `s` containing just the characters `'('`, `')'`, `'{'`, `'}'`, `'['` and `']'`, determine if the input string is valid.\n",
    "\n",
    "An input string is valid if:\n",
    "\n",
    "1. Open brackets must be closed by the same type of brackets.\n",
    "2. Open brackets must be closed in the correct order.\n",
    "3. Every close bracket has a corresponding open bracket of the same type.\n",
    "\n",
    "**Example 1:**\n",
    "\n",
    "```\n",
    "Input: s = \"()\"\n",
    "Output: true\n",
    "```\n",
    "\n",
    "**Example 2:**\n",
    "\n",
    "```\n",
    "Input: s = \"()[]{}\"\n",
    "Output: true\n",
    "```\n",
    "\n",
    "**Example 3:**\n",
    "\n",
    "```\n",
    "Input: s = \"(]\"\n",
    "Output: false\n",
    "```\n",
    "\n",
    "**Constraints:**\n",
    "\n",
    "- `1 <= s.length <= 10^4`\n",
    "- `s` consists of parentheses only `()[]{}`."
   ]
  },
  {
   "cell_type": "markdown",
   "metadata": {},
   "source": [
    "### Solution"
   ]
  },
  {
   "cell_type": "code",
   "execution_count": 1,
   "metadata": {},
   "outputs": [],
   "source": [
    "class Solution:\n",
    "    def isValid(self, s: str) -> bool:\n",
    "        \"\"\"\n",
    "        1. Define a dictionary of opening parantheses, reference_dict\n",
    "        2. Define a list that will keep opening parantheses; openings\n",
    "        3. Iterate through s\n",
    "            i. If item is an opening paranthese, add it to the openings\n",
    "            ii. Else if item\n",
    "        \"\"\"\n",
    "\n",
    "        reference_dict = {\n",
    "            '(': ')',\n",
    "            '{': '}',\n",
    "            '[': ']',\n",
    "            }\n",
    "\n",
    "        openings = []\n",
    "        \n",
    "        for item in s:\n",
    "            if item in reference_dict:\n",
    "                openings.append(item)\n",
    "            else:\n",
    "                if len(openings) == 0 or (item != reference_dict[openings[-1]]):\n",
    "                    return False\n",
    "                openings.pop()\n",
    "        \n",
    "        return len(openings) == 0"
   ]
  },
  {
   "cell_type": "markdown",
   "metadata": {},
   "source": [
    "### Test"
   ]
  },
  {
   "cell_type": "code",
   "execution_count": 7,
   "metadata": {},
   "outputs": [],
   "source": [
    "for s, result in [\n",
    "    (\"()\", True),\n",
    "    (\"()[]{}\", True),\n",
    "    (\"(]\", False),\n",
    "]:\n",
    "    prediction = Solution().isValid(s)\n",
    "    assert prediction == result, f\"{result} expected for {s}, got {prediction}\""
   ]
  },
  {
   "cell_type": "markdown",
   "metadata": {},
   "source": [
    "### References\n",
    "\n",
    "- [Leetcode](https://leetcode.com/problems/valid-parentheses/)\n",
    "- [Neetcode - Youtube](https://youtu.be/WTzjTskDFMg?list=PLot-Xpze53ldVwtstag2TL4HQhAnC8ATf)\n",
    "- [Neetcode - Github](https://github.com/neetcode-gh/leetcode/blob/main/python/0020-valid-parentheses.py)"
   ]
  }
 ],
 "metadata": {
  "kernelspec": {
   "display_name": "venv",
   "language": "python",
   "name": "python3"
  },
  "language_info": {
   "codemirror_mode": {
    "name": "ipython",
    "version": 3
   },
   "file_extension": ".py",
   "mimetype": "text/x-python",
   "name": "python",
   "nbconvert_exporter": "python",
   "pygments_lexer": "ipython3",
   "version": "3.10.13"
  }
 },
 "nbformat": 4,
 "nbformat_minor": 2
}
