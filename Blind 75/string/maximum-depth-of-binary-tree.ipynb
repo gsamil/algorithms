{
 "cells": [
  {
   "cell_type": "markdown",
   "metadata": {},
   "source": [
    "### Maximum Depth of Binary Tree\n",
    "\n",
    "```\n",
    "easy\n",
    "```\n",
    "\n",
    "---\n",
    "\n",
    "Given the `root` of a binary tree, return its maximum depth.\n",
    "\n",
    "A binary tree's maximum depth is the number of nodes along the longest path from the root node down to the farthest leaf node.\n",
    "\n",
    "**Example 1:**\n",
    "\n",
    "```\n",
    "Input: root = [3,9,20,null,null,15,7]\n",
    "Output: 3\n",
    "```\n",
    "\n",
    "**Example 2:**\n",
    "\n",
    "```\n",
    "Input: root = [1,null,2]\n",
    "Output: 2\n",
    "```\n",
    "\n",
    "**Constraints:**\n",
    "\n",
    "- The number of nodes in the tree is in the range `[0, 10^4]`.\n",
    "- `-10^9 <= Node.val <= 10^9`"
   ]
  },
  {
   "cell_type": "code",
   "execution_count": 2,
   "metadata": {},
   "outputs": [],
   "source": [
    "class TreeNode:\n",
    "    def __init__(self, val=0, left=None, right=None):\n",
    "        self.val = val\n",
    "        self.left = left\n",
    "        self.right = right"
   ]
  },
  {
   "cell_type": "markdown",
   "metadata": {},
   "source": [
    "### Solution - BFS"
   ]
  },
  {
   "cell_type": "code",
   "execution_count": 16,
   "metadata": {},
   "outputs": [],
   "source": [
    "from collections import deque\n",
    "\n",
    "class Solution:\n",
    "    def maxDepth(self, root: TreeNode) -> int:\n",
    "        q = deque()\n",
    "        if root:\n",
    "            q.append(root)\n",
    "\n",
    "        level = 0\n",
    "\n",
    "        while q:\n",
    "            for i in range(len(q)):\n",
    "                node = q.popleft()\n",
    "                if node.left:\n",
    "                    q.append(node.left)\n",
    "                if node.right:\n",
    "                    q.append(node.right)\n",
    "            level += 1\n",
    "        return level"
   ]
  },
  {
   "cell_type": "markdown",
   "metadata": {},
   "source": [
    "`[3,9,20,None,None,15,7]` represented as a tuple :\n",
    "```python\n",
    "(\n",
    "    3: (\n",
    "        (9, (None, None)), \n",
    "        (20: (15, 7))\n",
    "    )\n",
    ")\n",
    "```\n",
    "\n",
    "| q | level | comment |\n",
    "|---|-------|---------|\n",
    "| [3] | 0 | q will initially contain the root node 3|\n",
    "| [9, 20] | 1 | Then we pop 3 and append its children 9 and 20 |\n",
    "| [20] | 1 | Then we pop 9 and append its children, which are None |\n",
    "| [15, 7] | 2 | Then we pop 20 and append its children 15 and 7 |\n",
    "| [15] | 2 | Then we pop 15 and append its children, which are None |\n",
    "| [] | 3 | Then we pop 7 and append its children, which are None |"
   ]
  },
  {
   "cell_type": "markdown",
   "metadata": {},
   "source": [
    "### Solution - Iterative DFS"
   ]
  },
  {
   "cell_type": "code",
   "execution_count": null,
   "metadata": {},
   "outputs": [],
   "source": [
    "# ITERATIVE DFS\n",
    "class Solution:\n",
    "    def maxDepth(self, root: TreeNode) -> int:\n",
    "        stack = [[root, 1]]\n",
    "        res = 0\n",
    "\n",
    "        while stack:\n",
    "            node, depth = stack.pop()\n",
    "\n",
    "            if node:\n",
    "                res = max(res, depth)\n",
    "                stack.append([node.left, depth + 1])\n",
    "                stack.append([node.right, depth + 1])\n",
    "        return res"
   ]
  },
  {
   "cell_type": "markdown",
   "metadata": {},
   "source": [
    "`[3,9,20,None,None,15,7]` represented as a tuple :\n",
    "```python\n",
    "(\n",
    "    3: (\n",
    "        (9, (None, None)), \n",
    "        (20: (15, 7))\n",
    "    )\n",
    ")\n",
    "```\n",
    "\n",
    "| stack | res | comment |\n",
    "| --- | --- | --- |\n",
    "| [[3, 1]] | 0 | We pop [3, 1] and append its children 9 and 20 |\n",
    "| [[9, 2], [20, 2]] | 1 | We pop [20, 2] and append its children 15 and 7 |\n",
    "| [[9, 2], [15, 3], [7, 3]] | 2 | We pop [7, 3] and append its children, which are None |\n",
    "| [[9, 2], [15, 3]] | 3 | We pop [15, 3] and append its children, which are None |\n",
    "| [[9, 2]] | 3 | We pop [9, 2] and append its children, which are None |\n",
    "| [] | 3 | So we have gone through all the nodes in the tree, and res = 3 |\n",
    "\n",
    "\n",
    "**Now consider the previous BFS solution:**\n",
    "\n",
    "Let's assume we changed popleft to a popright,\n",
    "\n",
    "| q | level | comment |\n",
    "|---|-------|---------|\n",
    "| [3] | 0 | q will initially contain the root node 3|\n",
    "| [9, 20] | 1 | Then we pop 3 and append its children 9 and 20 |\n",
    "| [9, 15, 7] | 1 | Then we pop 20 and append its children 15 and 7 |\n",
    "| [9, 15] | 2 | Then we pop 7 and append its children, which are None |\n",
    "| [9] | 2 | Then we pop 15 and append its children, which are None |\n",
    "| [] | 3 | Then we pop 9 and append its children, which are None |\n",
    "\n",
    "I think it's a DFS all of a sudden!"
   ]
  },
  {
   "cell_type": "markdown",
   "metadata": {},
   "source": [
    "### Solution - Recursive DFS"
   ]
  },
  {
   "cell_type": "code",
   "execution_count": 17,
   "metadata": {},
   "outputs": [],
   "source": [
    "class Solution:\n",
    "    def maxDepth(self, root: TreeNode) -> int:\n",
    "        if not root:\n",
    "            return 0\n",
    "\n",
    "        return 1 + max(self.maxDepth(root.left), self.maxDepth(root.right))"
   ]
  },
  {
   "cell_type": "markdown",
   "metadata": {},
   "source": [
    "### Test"
   ]
  },
  {
   "cell_type": "code",
   "execution_count": 18,
   "metadata": {},
   "outputs": [],
   "source": [
    "for s, result in [\n",
    "    (TreeNode(3, TreeNode(9), TreeNode(20, TreeNode(15), TreeNode(7))), 3),\n",
    "    (TreeNode(1, None, TreeNode(2)), 2),\n",
    "]:\n",
    "    prediction = Solution().maxDepth(s)\n",
    "    assert prediction == result, f\"{result} expected for {s}, got {prediction}\""
   ]
  },
  {
   "cell_type": "markdown",
   "metadata": {},
   "source": [
    "### References\n",
    "\n",
    "- [Leetcode](https://leetcode.com/problems/maximum-depth-of-binary-tree/)\n",
    "- [Neetcode - Youtube](https://youtu.be/hTM3phVI6YQ?list=PLot-Xpze53ldVwtstag2TL4HQhAnC8ATf)\n",
    "- [Neetcode - Github](https://github.com/neetcode-gh/leetcode/blob/main/python/0104-maximum-depth-of-binary-tree.py)"
   ]
  }
 ],
 "metadata": {
  "kernelspec": {
   "display_name": "venv",
   "language": "python",
   "name": "python3"
  },
  "language_info": {
   "codemirror_mode": {
    "name": "ipython",
    "version": 3
   },
   "file_extension": ".py",
   "mimetype": "text/x-python",
   "name": "python",
   "nbconvert_exporter": "python",
   "pygments_lexer": "ipython3",
   "version": "3.10.13"
  }
 },
 "nbformat": 4,
 "nbformat_minor": 2
}
