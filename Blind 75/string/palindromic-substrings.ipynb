{
 "cells": [
  {
   "cell_type": "markdown",
   "metadata": {},
   "source": [
    "### Palindromic Substrings\n",
    "\n",
    "```\n",
    "medium\n",
    "```\n",
    "\n",
    "---\n",
    "\n",
    "Given a string `s`, return the number of palindromic substrings in it.\n",
    "\n",
    "A string is a palindrome when it reads the same backward as forward.\n",
    "\n",
    "A substring is a contiguous sequence of characters within the string.\n",
    "\n",
    "**Example 1:**\n",
    "\n",
    "```\n",
    "Input: s = \"abc\"\n",
    "Output: 3\n",
    "Explanation: Three palindromic strings: \"a\", \"b\", \"c\".\n",
    "```\n",
    "\n",
    "**Example 2:**\n",
    "\n",
    "```\n",
    "Input: s = \"aaa\"\n",
    "Output: 6\n",
    "Explanation: Six palindromic strings: \"a\", \"a\", \"a\", \"aa\", \"aa\", \"aaa\".\n",
    "```\n",
    "\n",
    "**Constraints:**\n",
    "\n",
    "- `1 <= s.length <= 1000`\n",
    "- `s` consists of lowercase English letters."
   ]
  },
  {
   "cell_type": "markdown",
   "metadata": {},
   "source": [
    "### Solution\n",
    "\n",
    "We can refactor our solution to the [Longest Palindromic Substring](./longest-palindromic-substring.ipynb) problem:\n",
    "\n",
    "```\n",
    "res = \"\"\n",
    "\n",
    "for i in range(len(s)):\n",
    "    for l, r in [\n",
    "        (i, i), # for even length palindrome\n",
    "        (i, i + 1), # for odd length palindrome\n",
    "    ]:\n",
    "        while l >= 0 and r <= len(s) - 1 and s[l] == s[r]:\n",
    "            if r - l + 1 > len(res):\n",
    "                res = s[l:r+1]\n",
    "            l -= 1\n",
    "            r += 1\n",
    "\n",
    "return res\n",
    "```\n",
    "\n",
    "Instead of updating res, we need to count them."
   ]
  },
  {
   "cell_type": "code",
   "execution_count": 2,
   "metadata": {},
   "outputs": [],
   "source": [
    "class Solution:\n",
    "    def countSubstrings(self, s: str) -> int:\n",
    "        res = 0\n",
    "\n",
    "        for i in range(len(s)):\n",
    "            for l, r in [\n",
    "                (i, i), # for even length palindrome\n",
    "                (i, i + 1), # for odd length palindrome\n",
    "            ]:\n",
    "                while l >= 0 and r <= len(s) - 1 and s[l] == s[r]:\n",
    "                    res += 1\n",
    "                    l -= 1\n",
    "                    r += 1\n",
    "        \n",
    "        return res"
   ]
  },
  {
   "cell_type": "markdown",
   "metadata": {},
   "source": [
    "### Test"
   ]
  },
  {
   "cell_type": "code",
   "execution_count": 4,
   "metadata": {},
   "outputs": [],
   "source": [
    "for s, result in [\n",
    "    (\"abc\", 3),\n",
    "    (\"aaa\", 6),\n",
    "]:\n",
    "    prediction = Solution().countSubstrings(s)\n",
    "    assert prediction == result, f\"{result} expected for {s}, got {prediction}\""
   ]
  },
  {
   "cell_type": "markdown",
   "metadata": {},
   "source": [
    "### References\n",
    "\n",
    "- [Leetcode](https://leetcode.com/problems/palindromic-substrings/)\n",
    "- [Neetcode - Youtube](https://youtu.be/4RACzI5-du8?list=PLot-Xpze53ldVwtstag2TL4HQhAnC8ATf)\n",
    "- [Neetcode - Github](https://github.com/neetcode-gh/leetcode/blob/main/python/0647-palindromic-substrings.py)"
   ]
  }
 ],
 "metadata": {
  "kernelspec": {
   "display_name": "venv",
   "language": "python",
   "name": "python3"
  },
  "language_info": {
   "codemirror_mode": {
    "name": "ipython",
    "version": 3
   },
   "file_extension": ".py",
   "mimetype": "text/x-python",
   "name": "python",
   "nbconvert_exporter": "python",
   "pygments_lexer": "ipython3",
   "version": "3.10.13"
  }
 },
 "nbformat": 4,
 "nbformat_minor": 2
}
