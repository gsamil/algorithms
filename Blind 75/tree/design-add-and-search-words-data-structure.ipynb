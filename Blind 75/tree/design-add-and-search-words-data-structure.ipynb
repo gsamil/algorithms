{
 "cells": [
  {
   "cell_type": "markdown",
   "id": "7d19a5f9",
   "metadata": {},
   "source": [
    "### Design Add and Search Words Data Structure\n",
    "\n",
    "```\n",
    "medium\n",
    "```\n",
    "\n",
    "---\n",
    "\n",
    "Design a data structure that supports adding new words and finding if a string matches any previously added string.\n",
    "\n",
    "Implement the WordDictionary class:\n",
    "\n",
    "- `WordDictionary()` Initializes the object.\n",
    "- `void addWord(word)` Adds `word` to the data structure, it can be matched later.\n",
    "- `bool search(word)` Returns `true` if there is any string in the data structure that matches `word` or `false` otherwise. `word` may contain dots `'.'` where dots can be matched with any letter.\n",
    "\n",
    "**Example:**\n",
    "\n",
    "```\n",
    "Input\n",
    "[\"WordDictionary\",\"addWord\",\"addWord\",\"addWord\",\"search\",\"search\",\"search\",\"search\"]\n",
    "[[],[\"bad\"],[\"dad\"],[\"mad\"],[\"pad\"],[\"bad\"],[\".ad\"],[\"b..\"]]\n",
    "\n",
    "Output\n",
    "[null,null,null,null,false,true,true,true]\n",
    "\n",
    "Explanation\n",
    "WordDictionary wordDictionary = new WordDictionary();\n",
    "wordDictionary.addWord(\"bad\");\n",
    "wordDictionary.addWord(\"dad\");\n",
    "wordDictionary.addWord(\"mad\");\n",
    "wordDictionary.search(\"pad\"); // return False\n",
    "wordDictionary.search(\"bad\"); // return True\n",
    "wordDictionary.search(\".ad\"); // return True\n",
    "wordDictionary.search(\"b..\"); // return True\n",
    "```\n",
    "\n",
    "**Constraints:**\n",
    "\n",
    "- `1 <= word.length <= 25`\n",
    "- `word` in addWord consists of lowercase English letters.\n",
    "- `word` in search consist of `'.'` or lowercase English letters.\n",
    "- There will be at most 2 dots in `word` for search queries.\n",
    "- At most `10^4` calls will be made to addWord and search."
   ]
  },
  {
   "cell_type": "markdown",
   "id": "4dbdb20a",
   "metadata": {},
   "source": [
    "### Solution"
   ]
  },
  {
   "cell_type": "code",
   "execution_count": 3,
   "id": "6adee9d2",
   "metadata": {},
   "outputs": [],
   "source": [
    "class TrieNode:\n",
    "    def __init__(self):\n",
    "        self.children = {}  # a : TrieNode\n",
    "        self.word = False\n",
    "\n",
    "\n",
    "class WordDictionary:\n",
    "    def __init__(self):\n",
    "        self.root = TrieNode()\n",
    "\n",
    "    def addWord(self, word: str) -> None:\n",
    "        cur = self.root\n",
    "        for c in word:\n",
    "            if c not in cur.children:\n",
    "                cur.children[c] = TrieNode()\n",
    "            cur = cur.children[c]\n",
    "        cur.word = True\n",
    "\n",
    "    def search(self, word: str) -> bool:\n",
    "        def dfs(j, root):\n",
    "            cur = root\n",
    "\n",
    "            for i in range(j, len(word)):\n",
    "                c = word[i]\n",
    "                if c == \".\":\n",
    "                    for child in cur.children.values():\n",
    "                        if dfs(i + 1, child):\n",
    "                            return True\n",
    "                    return False\n",
    "                else:\n",
    "                    if c not in cur.children:\n",
    "                        return False\n",
    "                    cur = cur.children[c]\n",
    "            return cur.word\n",
    "\n",
    "        return dfs(0, self.root)"
   ]
  },
  {
   "cell_type": "markdown",
   "id": "75159bc2",
   "metadata": {},
   "source": [
    "### Test"
   ]
  },
  {
   "cell_type": "code",
   "execution_count": 4,
   "id": "15210f9b",
   "metadata": {},
   "outputs": [],
   "source": [
    "wordDictionary = WordDictionary()\n",
    "wordDictionary.addWord(\"bad\")\n",
    "wordDictionary.addWord(\"dad\")\n",
    "wordDictionary.addWord(\"mad\")\n",
    "assert wordDictionary.search(\"pad\") == False, \"pad is not in the dictionary\"\n",
    "assert wordDictionary.search(\"bad\") == True, \"bad is in the dictionary\"\n",
    "assert wordDictionary.search(\".ad\") == True, \"bad is in the dictionary\"\n",
    "assert wordDictionary.search(\"b..\") == True, \"bad is in the dictionary\""
   ]
  },
  {
   "cell_type": "markdown",
   "id": "1014ac2b",
   "metadata": {},
   "source": [
    "### References\n",
    "\n",
    "- [Leetcode](https://leetcode.com/problems/design-add-and-search-words-data-structure/)\n",
    "- [Neetcode - Youtube](https://youtu.be/BTf05gs_8iU?list=PLot-Xpze53ldVwtstag2TL4HQhAnC8ATf)\n",
    "- [Neetcode - Github](https://github.com/neetcode-gh/leetcode/blob/main/python/0211-design-add-and-search-words-data-structure.py)"
   ]
  }
 ],
 "metadata": {
  "kernelspec": {
   "display_name": "venv",
   "language": "python",
   "name": "python3"
  },
  "language_info": {
   "codemirror_mode": {
    "name": "ipython",
    "version": 3
   },
   "file_extension": ".py",
   "mimetype": "text/x-python",
   "name": "python",
   "nbconvert_exporter": "python",
   "pygments_lexer": "ipython3",
   "version": "3.10.13"
  }
 },
 "nbformat": 4,
 "nbformat_minor": 5
}
