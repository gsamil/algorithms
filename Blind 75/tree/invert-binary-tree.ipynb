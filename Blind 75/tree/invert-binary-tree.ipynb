{
 "cells": [
  {
   "cell_type": "markdown",
   "id": "f79a16e1",
   "metadata": {},
   "source": [
    "### Invert Binary Tree\n",
    "\n",
    "```\n",
    "easy\n",
    "```\n",
    "\n",
    "---\n",
    "\n",
    "Given the root of a binary tree, invert the tree, and return its root."
   ]
  },
  {
   "cell_type": "markdown",
   "id": "00267f4b",
   "metadata": {},
   "source": [
    "**Example 1:**\n",
    "\n",
    "```\n",
    "Input: root = [4,2,7,1,3,6,9]\n",
    "Output: [4,7,2,9,6,3,1]\n",
    "```\n",
    "\n",
    "**Example 2:**\n",
    "\n",
    "```\n",
    "Input: root = [2,1,3]\n",
    "Output: [2,3,1]\n",
    "```\n",
    "\n",
    "**Example 3:**\n",
    "\n",
    "```\n",
    "Input: root = []\n",
    "Output: []\n",
    "```\n",
    "\n",
    "**Constraints:**\n",
    "\n",
    "- The number of nodes in the tree is in the range `[0, 100]`.\n",
    "- `-100 <= Node.val <= 100`"
   ]
  },
  {
   "cell_type": "markdown",
   "id": "26742898",
   "metadata": {},
   "source": [
    "### Solution"
   ]
  },
  {
   "cell_type": "code",
   "execution_count": 20,
   "id": "5e6f79fe",
   "metadata": {},
   "outputs": [],
   "source": [
    "from typing import Optional\n",
    "from tree import TreeNode\n",
    "\n",
    "class Solution:\n",
    "    def invertTree(self, root: Optional[TreeNode]) -> Optional[TreeNode]:\n",
    "        if not root:\n",
    "            return None\n",
    "        root.left, root.right = self.invertTree(root.right), self.invertTree(root.left)\n",
    "        return root"
   ]
  },
  {
   "cell_type": "markdown",
   "id": "dcfe48b0",
   "metadata": {},
   "source": [
    "Note that here if you convert these line by line, i.e.\n",
    "\n",
    "```python\n",
    "root.left = self.invertTree(root.right)\n",
    "root.right = self.invertTree(root.left)\n",
    "```\n",
    "\n",
    "left root will be already changed when you are trying to update right root, so result will be wrong."
   ]
  },
  {
   "cell_type": "markdown",
   "id": "91270733",
   "metadata": {},
   "source": [
    "### Test"
   ]
  },
  {
   "cell_type": "code",
   "execution_count": 21,
   "id": "85888e76",
   "metadata": {},
   "outputs": [],
   "source": [
    "# Examples\n",
    "# [4,2,7,1,3,6,9] : TreeNode(4, TreeNode(2, TreeNode(1), TreeNode(3)), TreeNode(7, TreeNode(6), TreeNode(9)))\n",
    "# [4,7,2,9,6,3,1] : TreeNode(4, TreeNode(7, TreeNode(9), TreeNode(6)), TreeNode(2, TreeNode(3), TreeNode(1)))\n",
    "\n",
    "# [2,1,3] : TreeNode(2, TreeNode(1), TreeNode(3))\n",
    "# [2,3,1] : TreeNode(2, TreeNode(3), TreeNode(1))\n",
    "\n",
    "# [] : TreeNode()\n",
    "\n",
    "# Test cases\n",
    "for root, result in [\n",
    "    (\n",
    "        TreeNode(4, TreeNode(2, TreeNode(1), TreeNode(3)), TreeNode(7, TreeNode(6), TreeNode(9))),\n",
    "        TreeNode(4, TreeNode(7, TreeNode(9), TreeNode(6)), TreeNode(2, TreeNode(3), TreeNode(1)))\n",
    "    ),\n",
    "    (\n",
    "        TreeNode(2, TreeNode(1), TreeNode(3)),\n",
    "        TreeNode(2, TreeNode(3), TreeNode(1))\n",
    "    ),\n",
    "    (TreeNode(), TreeNode()),\n",
    "]:\n",
    "    prediction = Solution().invertTree(root)\n",
    "    assert str(prediction) == str(result), f\"{prediction} != {result}\""
   ]
  },
  {
   "cell_type": "markdown",
   "id": "e035b30f",
   "metadata": {},
   "source": [
    "### References\n",
    "\n",
    "- [Leetcode](https://leetcode.com/problems/invert-binary-tree/)\n",
    "- [Neetcode - Youtube](https://youtu.be/OnSn2XEQ4MY?list=PLot-Xpze53ldVwtstag2TL4HQhAnC8ATf)\n",
    "- [Neetcode - Github](https://github.com/neetcode-gh/leetcode/blob/main/python/0226-invert-binary-tree.py)"
   ]
  }
 ],
 "metadata": {
  "kernelspec": {
   "display_name": "venv",
   "language": "python",
   "name": "python3"
  },
  "language_info": {
   "codemirror_mode": {
    "name": "ipython",
    "version": 3
   },
   "file_extension": ".py",
   "mimetype": "text/x-python",
   "name": "python",
   "nbconvert_exporter": "python",
   "pygments_lexer": "ipython3",
   "version": "3.10.13"
  }
 },
 "nbformat": 4,
 "nbformat_minor": 5
}
