{
 "cells": [
  {
   "cell_type": "markdown",
   "id": "7d19a5f9",
   "metadata": {},
   "source": [
    "### Kth Smallest Element in a BST\n",
    "\n",
    "```\n",
    "medium\n",
    "```\n",
    "\n",
    "---\n",
    "\n",
    "Given the root of a binary search tree, and an integer `k`, return the kth smallest value (1-indexed) of all the values of the nodes in the tree.\n",
    "\n",
    "**Example 1:**\n",
    "\n",
    "```\n",
    "Input: root = [3,1,4,null,2], k = 1\n",
    "Output: 1\n",
    "```\n",
    "\n",
    "Example 1 Tree Structure:\n",
    "\n",
    "```\n",
    "    3\n",
    "   / \\\n",
    "  1   4\n",
    "   \\\n",
    "    2\n",
    "```\n",
    "\n",
    "**Example 2:**\n",
    "\n",
    "```\n",
    "Input: root = [5,3,6,2,4,null,null,1], k = 3\n",
    "Output: 3\n",
    "```\n",
    "\n",
    "Example 2 Tree Structure:\n",
    "\n",
    "```\n",
    "      5\n",
    "     / \\\n",
    "    3   6\n",
    "   / \\\n",
    "  2   4\n",
    " /\n",
    "1\n",
    "```\n",
    "\n",
    "**Constraints:**\n",
    "\n",
    "- The number of nodes in the tree is `n`.\n",
    "- `1 <= k <= n <= 10^4`\n",
    "- `0 <= Node.val <= 10^4`\n",
    "\n",
    "**Follow up:** If the BST is modified often (i.e., we can do insert and delete operations) and you need to find the kth smallest frequently, how would you optimize?"
   ]
  },
  {
   "cell_type": "markdown",
   "id": "4dbdb20a",
   "metadata": {},
   "source": [
    "### Solution"
   ]
  },
  {
   "cell_type": "code",
   "execution_count": 1,
   "id": "6adee9d2",
   "metadata": {},
   "outputs": [],
   "source": [
    "from tree import TreeNode\n",
    "\n",
    "\n",
    "class Solution:\n",
    "    def kthSmallest(self, root: TreeNode, k: int) -> int:\n",
    "        stack = []\n",
    "        curr = root\n",
    "\n",
    "        while stack or curr:\n",
    "            while curr:\n",
    "                stack.append(curr)\n",
    "                curr = curr.left\n",
    "            curr = stack.pop()\n",
    "            k -= 1\n",
    "            if k == 0:\n",
    "                return curr.val\n",
    "            curr = curr.right"
   ]
  },
  {
   "cell_type": "markdown",
   "id": "75159bc2",
   "metadata": {},
   "source": [
    "### Test"
   ]
  },
  {
   "cell_type": "code",
   "execution_count": 5,
   "id": "15210f9b",
   "metadata": {},
   "outputs": [],
   "source": [
    "for root, k, result in [\n",
    "    (TreeNode(3, TreeNode(1, None, TreeNode(2)), TreeNode(4)), 1, 1),\n",
    "    (TreeNode(5, TreeNode(3, TreeNode(2, TreeNode(1)), TreeNode(4)), TreeNode(6)), 3, 3),\n",
    "]:\n",
    "    prediction = Solution().kthSmallest(root, k)\n",
    "    assert prediction == result, f\"{prediction} != {result} for {root}\""
   ]
  },
  {
   "cell_type": "markdown",
   "id": "1014ac2b",
   "metadata": {},
   "source": [
    "### References\n",
    "\n",
    "- [Leetcode](https://leetcode.com/problems/kth-smallest-element-in-a-bst/)\n",
    "- [Neetcode - Youtube](https://youtu.be/5LUXSvjmGCw?list=PLot-Xpze53ldVwtstag2TL4HQhAnC8ATf)\n",
    "- [Neetcode - Github](https://github.com/neetcode-gh/leetcode/blob/main/python/0230-kth-smallest-element-in-a-bst.py)"
   ]
  }
 ],
 "metadata": {
  "kernelspec": {
   "display_name": "venv",
   "language": "python",
   "name": "python3"
  },
  "language_info": {
   "codemirror_mode": {
    "name": "ipython",
    "version": 3
   },
   "file_extension": ".py",
   "mimetype": "text/x-python",
   "name": "python",
   "nbconvert_exporter": "python",
   "pygments_lexer": "ipython3",
   "version": "3.10.13"
  }
 },
 "nbformat": 4,
 "nbformat_minor": 5
}
