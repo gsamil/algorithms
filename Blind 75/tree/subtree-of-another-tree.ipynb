{
 "cells": [
  {
   "cell_type": "markdown",
   "id": "7d19a5f9",
   "metadata": {},
   "source": [
    "### Subtree of Another Tree\n",
    "\n",
    "```\n",
    "easy\n",
    "```\n",
    "\n",
    "---\n",
    "\n",
    "Given the roots of two binary trees `root` and `subRoot`, return `true` if there is a subtree of `root` with the same structure and node values of `subRoot` and `false` otherwise.\n",
    "\n",
    "A subtree of a binary tree `tree` is a tree that consists of a node in `tree` and all of this node's descendants. The `tree` tree could also be considered a subtree of itself.\n",
    "\n",
    "**Example 1:**\n",
    "\n",
    "```\n",
    "Input: root = [3,4,5,1,2], subRoot = [4,1,2]\n",
    "Output: true\n",
    "```\n",
    "\n",
    "Example 1 Tree Structures:\n",
    "\n",
    "```\n",
    "    root            subRoot\n",
    "      3                4\n",
    "     / \\              / \\\n",
    "    4   5            1   2\n",
    "   / \\\n",
    "  1   2\n",
    "```\n",
    "\n",
    "**Example 2:**\n",
    "\n",
    "```\n",
    "Input: root = [3,4,5,1,2,null,null,null,null,0], subRoot = [4,1,2]\n",
    "Output: false\n",
    "```\n",
    "\n",
    "Example 2 Tree Structures:\n",
    "\n",
    "```\n",
    "    root            subRoot\n",
    "      3                4\n",
    "     / \\              / \\\n",
    "    4   5            1   2\n",
    "   / \\\n",
    "  1   2\n",
    "     /\n",
    "    0\n",
    "```\n",
    "\n",
    "**Constraints:**\n",
    "\n",
    "- The number of nodes in the `root` tree is in the range [1, 2000].\n",
    "- The number of nodes in the `subRoot` tree is in the range [1, 1000].\n",
    "- `-10^4 <= root.val <= 10^4`\n",
    "- `-10^4 <= subRoot.val <= 10^4`"
   ]
  },
  {
   "cell_type": "markdown",
   "id": "4dbdb20a",
   "metadata": {},
   "source": [
    "### Solution"
   ]
  },
  {
   "cell_type": "markdown",
   "id": "eb972245",
   "metadata": {},
   "source": [
    "So we need to check if any of the subtrees of the s is same with t.\n",
    "We already know how to check if 2 trees are the same ([Same Tree](./same-tree.ipynb)):\n",
    "\n",
    "```python\n",
    "def isSameTree(self, p: Optional[TreeNode], q: Optional[TreeNode]) -> bool:\n",
    "    if not p and not q:\n",
    "        return True\n",
    "    if p and q and p.val == q.val:\n",
    "        return isSameTree(p.left, q.left) and isSameTree(p.right, q.right)\n",
    "    return False\n",
    "```"
   ]
  },
  {
   "cell_type": "code",
   "execution_count": 2,
   "id": "6adee9d2",
   "metadata": {},
   "outputs": [],
   "source": [
    "from tree import TreeNode\n",
    "\n",
    "class Solution:\n",
    "    def isSubtree(self, s: TreeNode | None, t: TreeNode | None) -> bool:\n",
    "        if not t:\n",
    "            return True\n",
    "        if not s:\n",
    "            return False\n",
    "        \n",
    "        if self.sameTree(s, t):\n",
    "            return True\n",
    "        \n",
    "        return self.isSubtree(s.left, t) or self.isSubtree(s.right, t) \n",
    "        \n",
    "\n",
    "    def sameTree(self, s: TreeNode, t: TreeNode) -> bool:\n",
    "        if not s and not t:\n",
    "            return True\n",
    "        \n",
    "        if s and t and s.val == t.val:\n",
    "            return self.sameTree(s.left, t.left) and self.sameTree(s.right, t.right)\n",
    "        \n",
    "        return False"
   ]
  },
  {
   "cell_type": "markdown",
   "id": "75159bc2",
   "metadata": {},
   "source": [
    "### Test"
   ]
  },
  {
   "cell_type": "code",
   "execution_count": 2,
   "id": "15210f9b",
   "metadata": {},
   "outputs": [],
   "source": [
    "# Examples\n",
    "# [3,4,5,1,2] : TreeNode(3, TreeNode(4, TreeNode(1), TreeNode(2)), TreeNode(5))\n",
    "# [4,1,2] : TreeNode(4, TreeNode(1), TreeNode(2))\n",
    "\n",
    "# [3,4,5,1,2,null,null,null,null,0] : TreeNode(3, TreeNode(4, TreeNode(1, TreeNode(0)), TreeNode(2)), TreeNode(5))\n",
    "# [4,1,2] : TreeNode(4, TreeNode(1), TreeNode(2))\n",
    "\n",
    "# Test cases\n",
    "for root, sub_root, result in [\n",
    "    (TreeNode(3, TreeNode(4, TreeNode(1), TreeNode(2)), TreeNode(5)), TreeNode(4, TreeNode(1), TreeNode(2)), True),\n",
    "    (TreeNode(3, TreeNode(4, TreeNode(1), TreeNode(2, TreeNode(0))), TreeNode(5)), TreeNode(4, TreeNode(1), TreeNode(2)), False),\n",
    "]:\n",
    "    prediction = Solution().isSubtree(root, sub_root)\n",
    "    assert prediction == result, f\"isSubtree({root}, {sub_root}) == {prediction} but expected {result}\"\n",
    "    "
   ]
  },
  {
   "cell_type": "markdown",
   "id": "1014ac2b",
   "metadata": {},
   "source": [
    "### References\n",
    "\n",
    "- [Leetcode](https://leetcode.com/problems/subtree-of-another-tree/)\n",
    "- [Neetcode - Youtube](https://youtu.be/E36O5SWp-LE?list=PLot-Xpze53ldVwtstag2TL4HQhAnC8ATf)\n",
    "- [Neetcode - Github](https://github.com/neetcode-gh/leetcode/blob/main/python/0572-subtree-of-another-tree.py)"
   ]
  }
 ],
 "metadata": {
  "kernelspec": {
   "display_name": "venv",
   "language": "python",
   "name": "python3"
  },
  "language_info": {
   "codemirror_mode": {
    "name": "ipython",
    "version": 3
   },
   "file_extension": ".py",
   "mimetype": "text/x-python",
   "name": "python",
   "nbconvert_exporter": "python",
   "pygments_lexer": "ipython3",
   "version": "3.10.13"
  }
 },
 "nbformat": 4,
 "nbformat_minor": 5
}
