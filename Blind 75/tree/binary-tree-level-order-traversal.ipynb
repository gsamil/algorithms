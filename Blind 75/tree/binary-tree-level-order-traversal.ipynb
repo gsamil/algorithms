{
 "cells": [
  {
   "cell_type": "markdown",
   "id": "7d19a5f9",
   "metadata": {},
   "source": [
    "### Binary Tree Level Order Traversal\n",
    "\n",
    "```\n",
    "medium\n",
    "```\n",
    "\n",
    "---\n",
    "\n",
    "Given the `root` of a binary tree, return the level order traversal of its nodes' values. (i.e., from left to right, level by level).\n",
    "\n",
    "**Example 1:**\n",
    "\n",
    "```\n",
    "    3\n",
    "   / \\\n",
    "  9  20\n",
    "    /  \\\n",
    "   15   7\n",
    "```\n",
    "\n",
    "```\n",
    "Input: root = [3,9,20,null,null,15,7]\n",
    "Output: [[3],[9,20],[15,7]]\n",
    "```\n",
    "\n",
    "**Example 2:**\n",
    "\n",
    "```\n",
    "Input: root = [1]\n",
    "Output: [[1]]\n",
    "```\n",
    "\n",
    "**Example 3:**\n",
    "\n",
    "```\n",
    "Input: root = []\n",
    "Output: []\n",
    "```\n",
    "\n",
    "**Constraints:**\n",
    "\n",
    "- The number of nodes in the tree is in the range [0, 2000].\n",
    "- -1000 <= Node.val <= 1000"
   ]
  },
  {
   "cell_type": "markdown",
   "id": "4dbdb20a",
   "metadata": {},
   "source": [
    "### Solution"
   ]
  },
  {
   "cell_type": "markdown",
   "id": "263d409e",
   "metadata": {},
   "source": [
    "This is a BFS problem because we need to traverse the tree level by level. So we can use exact algorithm we used in the BFS solution of [Maximum Depth of Binary Tree](./Blind%2075/tree/maximum-depth-of-binary-tree.ipynb)\n",
    "\n",
    "```python\n",
    "q = deque()\n",
    "if root:\n",
    "    q.append(root)\n",
    "\n",
    "level = 0\n",
    "\n",
    "while q:\n",
    "    for i in range(len(q)):\n",
    "        node = q.popleft()\n",
    "        if node.left:\n",
    "            q.append(node.left)\n",
    "        if node.right:\n",
    "            q.append(node.right)\n",
    "    level += 1\n",
    "return level\n",
    "```\n",
    "\n",
    "Here, we just need to save the level order traversels instead of level value."
   ]
  },
  {
   "cell_type": "code",
   "execution_count": 10,
   "id": "6adee9d2",
   "metadata": {},
   "outputs": [],
   "source": [
    "from collections import deque\n",
    "from tree import TreeNode\n",
    "\n",
    "class Solution:\n",
    "    def levelOrder(self, root: TreeNode | None) -> list[list[int]]:\n",
    "        \n",
    "        q = deque()\n",
    "        if root:\n",
    "            q.append(root)\n",
    "        \n",
    "        res = []\n",
    "\n",
    "        while q:\n",
    "            val = []\n",
    "            for i in range(len(q)):\n",
    "                node = q.popleft()\n",
    "                val.append(node.val)\n",
    "                if node.left:\n",
    "                    q.append(node.left)\n",
    "                if node.right:\n",
    "                    q.append(node.right)\n",
    "            res.append(val)\n",
    "        \n",
    "        return res\n"
   ]
  },
  {
   "cell_type": "markdown",
   "id": "75159bc2",
   "metadata": {},
   "source": [
    "### Test"
   ]
  },
  {
   "cell_type": "code",
   "execution_count": 11,
   "id": "15210f9b",
   "metadata": {},
   "outputs": [
    {
     "name": "stdout",
     "output_type": "stream",
     "text": [
      "3 9 20 null null 15 7 null null null null -> [[3], [9, 20], [15, 7]] [expected: [[3], [9, 20], [15, 7]]]\n",
      "1 null null -> [[1]] [expected: [[1]]]\n",
      "None -> [] [expected: []]\n"
     ]
    }
   ],
   "source": [
    "# Examples\n",
    "# [3,9,20,null,null,15,7] : TreeNode(3, TreeNode(9), TreeNode(20, TreeNode(15), TreeNode(7))) -> [[3],[9,20],[15,7]]\n",
    "# [1] : TreeNode(1) -> [[1]]\n",
    "# [] : None -> []\n",
    "\n",
    "# Test cases\n",
    "for root, result in [\n",
    "    (TreeNode(3, TreeNode(9), TreeNode(20, TreeNode(15), TreeNode(7))), [[3],[9,20],[15,7]]),\n",
    "    (TreeNode(1), [[1]]),\n",
    "    (None, []),\n",
    "]:\n",
    "    prediction = Solution().levelOrder(root)\n",
    "    print(f\"{root} -> {prediction} [expected: {result}]\")"
   ]
  },
  {
   "cell_type": "markdown",
   "id": "1014ac2b",
   "metadata": {},
   "source": [
    "### References\n",
    "\n",
    "- [Leetcode](https://leetcode.com/problems/binary-tree-level-order-traversal/)\n",
    "- [Neetcode - Youtube](https://youtu.be/6ZnyEApgFYg?list=PLot-Xpze53ldVwtstag2TL4HQhAnC8ATf)\n",
    "- [Neetcode - Github](https://github.com/neetcode-gh/leetcode/blob/main/python/0102-binary-tree-level-order-traversal.py)"
   ]
  }
 ],
 "metadata": {
  "kernelspec": {
   "display_name": "venv",
   "language": "python",
   "name": "python3"
  },
  "language_info": {
   "codemirror_mode": {
    "name": "ipython",
    "version": 3
   },
   "file_extension": ".py",
   "mimetype": "text/x-python",
   "name": "python",
   "nbconvert_exporter": "python",
   "pygments_lexer": "ipython3",
   "version": "3.10.13"
  }
 },
 "nbformat": 4,
 "nbformat_minor": 5
}
