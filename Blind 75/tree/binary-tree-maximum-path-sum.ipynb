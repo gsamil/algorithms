{
 "cells": [
  {
   "cell_type": "markdown",
   "id": "7d19a5f9",
   "metadata": {},
   "source": [
    "### Binary Tree Maximum Path Sum\n",
    "\n",
    "```\n",
    "hard\n",
    "```\n",
    "\n",
    "---\n",
    "\n",
    "A path in a binary tree is a sequence of nodes where each pair of adjacent nodes in the sequence has an edge connecting them. A node can only appear in the sequence at most once. Note that the path does not need to pass through the root.\n",
    "\n",
    "The path sum of a path is the sum of the node's values in the path.\n",
    "\n",
    "Given the `root` of a binary tree, return the maximum path sum of any non-empty path.\n",
    "\n",
    "**Example 1:**\n",
    "\n",
    "```\n",
    "Input: root = [1,2,3]\n",
    "Output: 6\n",
    "Explanation: The optimal path is 2 -> 1 -> 3 with a path sum of 2 + 1 + 3 = 6.\n",
    "```\n",
    "\n",
    "**Example 2:**\n",
    "\n",
    "```\n",
    "Input: root = [-10,9,20,null,null,15,7]\n",
    "Output: 42\n",
    "Explanation: The optimal path is 15 -> 20 -> 7 with a path sum of 15 + 20 + 7 = 42.\n",
    "```\n",
    "\n",
    "**Constraints:**\n",
    "\n",
    "- The number of nodes in the tree is in the range [1, 3 * 10^4].\n",
    "- -1000 <= Node.val <= 1000"
   ]
  },
  {
   "cell_type": "code",
   "execution_count": 5,
   "id": "938f1a87",
   "metadata": {},
   "outputs": [],
   "source": [
    "from typing import Optional\n",
    "\n",
    "class TreeNode:\n",
    "    def __init__(self, val=0, left=None, right=None):\n",
    "        self.val = val\n",
    "        self.left = left\n",
    "        self.right = right"
   ]
  },
  {
   "cell_type": "markdown",
   "id": "4dbdb20a",
   "metadata": {},
   "source": [
    "### Solution"
   ]
  },
  {
   "cell_type": "code",
   "execution_count": 6,
   "id": "6adee9d2",
   "metadata": {},
   "outputs": [],
   "source": [
    "class Solution:\n",
    "    def maxPathSum(self, root: TreeNode) -> int:\n",
    "        res = [root.val]\n",
    "\n",
    "        # return max path sum without split\n",
    "        def dfs(root):\n",
    "            if not root:\n",
    "                return 0\n",
    "\n",
    "            leftMax = dfs(root.left)\n",
    "            rightMax = dfs(root.right)\n",
    "            leftMax = max(leftMax, 0)\n",
    "            rightMax = max(rightMax, 0)\n",
    "\n",
    "            # compute max path sum WITH split\n",
    "            res[0] = max(res[0], root.val + leftMax + rightMax)\n",
    "            return root.val + max(leftMax, rightMax)\n",
    "\n",
    "        dfs(root)\n",
    "        return res[0]"
   ]
  },
  {
   "cell_type": "markdown",
   "id": "75159bc2",
   "metadata": {},
   "source": [
    "### Test"
   ]
  },
  {
   "cell_type": "code",
   "execution_count": 7,
   "id": "15210f9b",
   "metadata": {},
   "outputs": [],
   "source": [
    "# Examples\n",
    "# [1,2,3] : TreeNode(1, TreeNode(2), TreeNode(3))\n",
    "# [-10,9,20,null,null,15,7] : TreeNode(-10, TreeNode(9), TreeNode(20, TreeNode(15), TreeNode(7)))\n",
    "\n",
    "# Test cases\n",
    "for root, result in [\n",
    "    (TreeNode(1, TreeNode(2), TreeNode(3)), 6),\n",
    "    (TreeNode(-10, TreeNode(9), TreeNode(20, TreeNode(15), TreeNode(7))), 42),\n",
    "]:\n",
    "    prediction = Solution().maxPathSum(root)\n",
    "    assert prediction == result, f\"{result} expected, got {prediction}\""
   ]
  },
  {
   "cell_type": "markdown",
   "id": "1014ac2b",
   "metadata": {},
   "source": [
    "### References\n",
    "\n",
    "- [Leetcode](https://leetcode.com/problems/binary-tree-maximum-path-sum/)\n",
    "- [Neetcode - Youtube](https://youtu.be/Hr5cWUld4vU?list=PLot-Xpze53ldVwtstag2TL4HQhAnC8ATf)\n",
    "- [Neetcode - Github](https://github.com/neetcode-gh/leetcode/blob/main/python/0124-binary-tree-maximum-path-sum.py)"
   ]
  }
 ],
 "metadata": {
  "kernelspec": {
   "display_name": "venv",
   "language": "python",
   "name": "python3"
  },
  "language_info": {
   "codemirror_mode": {
    "name": "ipython",
    "version": 3
   },
   "file_extension": ".py",
   "mimetype": "text/x-python",
   "name": "python",
   "nbconvert_exporter": "python",
   "pygments_lexer": "ipython3",
   "version": "3.10.13"
  }
 },
 "nbformat": 4,
 "nbformat_minor": 5
}
