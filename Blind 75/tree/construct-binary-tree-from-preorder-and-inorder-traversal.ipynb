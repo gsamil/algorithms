{
 "cells": [
  {
   "cell_type": "markdown",
   "id": "7d19a5f9",
   "metadata": {},
   "source": [
    "### Construct Binary Tree from Preorder and Inorder Traversal\n",
    "\n",
    "```\n",
    "medium\n",
    "```\n",
    "\n",
    "---\n",
    "\n",
    "Given two integer arrays `preorder` and `inorder` where `preorder` is the preorder traversal of a binary tree and `inorder` is the inorder traversal of the same tree, construct and return the binary tree.\n",
    "\n",
    "**Example 1:**\n",
    "\n",
    "```\n",
    "Input: preorder = [3,9,20,15,7], inorder = [9,3,15,20,7]\n",
    "Output: [3,9,20,null,null,15,7]\n",
    "```\n",
    "\n",
    "```\n",
    "    3\n",
    "   / \\\n",
    "  9  20\n",
    "    /  \\\n",
    "   15   7\n",
    "```\n",
    "\n",
    "**Example 2:**\n",
    "\n",
    "```\n",
    "Input: preorder = [-1], inorder = [-1]\n",
    "Output: [-1]\n",
    "```\n",
    "\n",
    "**Constraints:**\n",
    "\n",
    "- `1 <= preorder.length <= 3000`\n",
    "- `inorder.length == preorder.length`\n",
    "- `-3000 <= preorder[i], inorder[i] <= 3000`\n",
    "- `preorder` and `inorder` consist of unique values.\n",
    "- Each value of `inorder` also appears in `preorder`.\n",
    "- `preorder` is guaranteed to be the preorder traversal of the tree.\n",
    "- `inorder` is guaranteed to be the inorder traversal of the tree."
   ]
  },
  {
   "cell_type": "markdown",
   "id": "4dbdb20a",
   "metadata": {},
   "source": [
    "### Solution"
   ]
  },
  {
   "cell_type": "code",
   "execution_count": 2,
   "id": "6adee9d2",
   "metadata": {},
   "outputs": [],
   "source": [
    "from tree import TreeNode\n",
    "\n",
    "class Solution:\n",
    "    def buildTree(self, preorder: list[int], inorder: list[int]) -> TreeNode | None:\n",
    "        if not preorder or not inorder:\n",
    "            return None\n",
    "\n",
    "        root = TreeNode(preorder[0])\n",
    "        mid = inorder.index(preorder[0])\n",
    "        root.left = self.buildTree(preorder[1 : mid + 1], inorder[:mid])\n",
    "        root.right = self.buildTree(preorder[mid + 1 :], inorder[mid + 1 :])\n",
    "        return root"
   ]
  },
  {
   "cell_type": "markdown",
   "id": "75159bc2",
   "metadata": {},
   "source": [
    "### Test"
   ]
  },
  {
   "cell_type": "code",
   "execution_count": 8,
   "id": "15210f9b",
   "metadata": {},
   "outputs": [],
   "source": [
    "for preorder, inorder, result in [\n",
    "    ([3, 9, 20, 15, 7], [9, 3, 15, 20, 7], TreeNode(3, TreeNode(9), TreeNode(20, TreeNode(15), TreeNode(7)))),\n",
    "    ([-1], [-1], TreeNode(-1)),\n",
    "]:\n",
    "    prediction = Solution().buildTree(preorder, inorder)\n",
    "    assert str(prediction) == str(result), f\"isSubtree({preorder}, {inorder}) == {prediction} but expected {result}\"\n",
    "    "
   ]
  },
  {
   "cell_type": "markdown",
   "id": "1014ac2b",
   "metadata": {},
   "source": [
    "### References\n",
    "\n",
    "- [Leetcode](https://leetcode.com/problems/construct-binary-tree-from-preorder-and-inorder-traversal)\n",
    "- [Neetcode - Youtube](https://youtu.be/ihj4IQGZ2zc?list=PLot-Xpze53ldVwtstag2TL4HQhAnC8ATf)\n",
    "- [Neetcode - Github](https://github.com/neetcode-gh/leetcode/blob/main/python/0105-construct-binary-tree-from-preorder-and-inorder-traversal.py)"
   ]
  }
 ],
 "metadata": {
  "kernelspec": {
   "display_name": "venv",
   "language": "python",
   "name": "python3"
  },
  "language_info": {
   "codemirror_mode": {
    "name": "ipython",
    "version": 3
   },
   "file_extension": ".py",
   "mimetype": "text/x-python",
   "name": "python",
   "nbconvert_exporter": "python",
   "pygments_lexer": "ipython3",
   "version": "3.10.13"
  }
 },
 "nbformat": 4,
 "nbformat_minor": 5
}
