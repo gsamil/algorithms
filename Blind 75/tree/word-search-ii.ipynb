{
 "cells": [
  {
   "cell_type": "markdown",
   "id": "7d19a5f9",
   "metadata": {},
   "source": [
    "### Word Search II\n",
    "\n",
    "```\n",
    "hard\n",
    "```\n",
    "\n",
    "---\n",
    "\n",
    "Given an `m x n` board of characters and a list of strings `words`, return *all words on the board*.\n",
    "\n",
    "Each word must be constructed from letters of sequentially adjacent cells, where adjacent cells are horizontally or vertically neighboring. The same letter cell may not be used more than once in a word.\n",
    "\n",
    "**Example 1:**\n",
    "\n",
    "```\n",
    "Input: board = \n",
    "[\n",
    "  [\"o\",\"a\",\"a\",\"n\"],\n",
    "  [\"e\",\"t\",\"a\",\"e\"],\n",
    "  [\"i\",\"h\",\"k\",\"r\"],\n",
    "  [\"i\",\"f\",\"l\",\"v\"]\n",
    "], \n",
    "words = [\"oath\",\"pea\",\"eat\",\"rain\"]\n",
    "\n",
    "Output: [\"eat\",\"oath\"]\n",
    "```\n",
    "\n",
    "**Example 2:**\n",
    "\n",
    "```\n",
    "Input: board = \n",
    "[\n",
    "  [\"a\",\"b\"],\n",
    "  [\"c\",\"d\"]\n",
    "], \n",
    "words = [\"abcb\"]\n",
    "\n",
    "Output: []\n",
    "```\n",
    "\n",
    "**Constraints:**\n",
    "\n",
    "- `m == board.length`\n",
    "- `n == board[i].length`\n",
    "- `1 <= m, n <= 12`\n",
    "- `board[i][j]` is a lowercase English letter.\n",
    "- `1 <= words.length <= 3 * 10^4`\n",
    "- `1 <= words[i].length <= 10`\n",
    "- `words[i]` consists of lowercase English letters.\n",
    "- All the strings of `words` are unique.\n"
   ]
  },
  {
   "cell_type": "markdown",
   "id": "4dbdb20a",
   "metadata": {},
   "source": [
    "### Solution"
   ]
  },
  {
   "cell_type": "code",
   "execution_count": 3,
   "id": "6adee9d2",
   "metadata": {},
   "outputs": [],
   "source": [
    "class TrieNode:\n",
    "    def __init__(self):\n",
    "        self.children = {}\n",
    "        self.isWord = False\n",
    "        self.refs = 0\n",
    "\n",
    "    def addWord(self, word):\n",
    "        cur = self\n",
    "        cur.refs += 1\n",
    "        for c in word:\n",
    "            if c not in cur.children:\n",
    "                cur.children[c] = TrieNode()\n",
    "            cur = cur.children[c]\n",
    "            cur.refs += 1\n",
    "        cur.isWord = True\n",
    "\n",
    "    def removeWord(self, word):\n",
    "        cur = self\n",
    "        cur.refs -= 1\n",
    "        for c in word:\n",
    "            if c in cur.children:\n",
    "                cur = cur.children[c]\n",
    "                cur.refs -= 1\n",
    "\n",
    "\n",
    "class Solution:\n",
    "    def findWords(self, board: list[list[str]], words: list[str]) -> list[str]:\n",
    "        root = TrieNode()\n",
    "        for w in words:\n",
    "            root.addWord(w)\n",
    "\n",
    "        ROWS, COLS = len(board), len(board[0])\n",
    "        res, visit = set(), set()\n",
    "\n",
    "        def dfs(r, c, node, word):\n",
    "            if (\n",
    "                r not in range(ROWS) \n",
    "                or c not in range(COLS)\n",
    "                or board[r][c] not in node.children\n",
    "                or node.children[board[r][c]].refs < 1\n",
    "                or (r, c) in visit\n",
    "            ):\n",
    "                return\n",
    "\n",
    "            visit.add((r, c))\n",
    "            node = node.children[board[r][c]]\n",
    "            word += board[r][c]\n",
    "            if node.isWord:\n",
    "                node.isWord = False\n",
    "                res.add(word)\n",
    "                root.removeWord(word)\n",
    "\n",
    "            dfs(r + 1, c, node, word)\n",
    "            dfs(r - 1, c, node, word)\n",
    "            dfs(r, c + 1, node, word)\n",
    "            dfs(r, c - 1, node, word)\n",
    "            visit.remove((r, c))\n",
    "\n",
    "        for r in range(ROWS):\n",
    "            for c in range(COLS):\n",
    "                dfs(r, c, root, \"\")\n",
    "\n",
    "        return list(res)"
   ]
  },
  {
   "cell_type": "markdown",
   "id": "75159bc2",
   "metadata": {},
   "source": [
    "### Test"
   ]
  },
  {
   "cell_type": "code",
   "execution_count": 5,
   "id": "15210f9b",
   "metadata": {},
   "outputs": [
    {
     "name": "stdout",
     "output_type": "stream",
     "text": [
      "['oath', 'eat'] vs ['eat', 'oath']\n",
      "[] vs []\n"
     ]
    }
   ],
   "source": [
    "for board, words, result in [\n",
    "    ([[\"o\",\"a\",\"a\",\"n\"],[\"e\",\"t\",\"a\",\"e\"],[\"i\",\"h\",\"k\",\"r\"],[\"i\",\"f\",\"l\",\"v\"]], [\"oath\",\"pea\",\"eat\",\"rain\"], [\"eat\",\"oath\"]),\n",
    "    ([[\"a\",\"b\"],[\"c\",\"d\"]], [\"abcb\"], []),\n",
    "]:\n",
    "    prediction = Solution().findWords(board, words)\n",
    "    print(prediction, \"vs\", result)"
   ]
  },
  {
   "cell_type": "markdown",
   "id": "1014ac2b",
   "metadata": {},
   "source": [
    "### References\n",
    "\n",
    "- [Leetcode](https://leetcode.com/problems/word-search-ii/)\n",
    "- [Neetcode - Youtube](https://youtu.be/asbcE9mZz_U?list=PLot-Xpze53ldVwtstag2TL4HQhAnC8ATf)\n",
    "- [Neetcode - Github](https://github.com/neetcode-gh/leetcode/blob/main/python/0212-word-search-ii.py)"
   ]
  }
 ],
 "metadata": {
  "kernelspec": {
   "display_name": "venv",
   "language": "python",
   "name": "python3"
  },
  "language_info": {
   "codemirror_mode": {
    "name": "ipython",
    "version": 3
   },
   "file_extension": ".py",
   "mimetype": "text/x-python",
   "name": "python",
   "nbconvert_exporter": "python",
   "pygments_lexer": "ipython3",
   "version": "3.10.13"
  }
 },
 "nbformat": 4,
 "nbformat_minor": 5
}
