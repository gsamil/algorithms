{
 "cells": [
  {
   "cell_type": "markdown",
   "id": "7d19a5f9",
   "metadata": {},
   "source": [
    "### Validate Binary Search Tree\n",
    "\n",
    "```\n",
    "medium\n",
    "```\n",
    "\n",
    "---\n",
    "\n",
    "Given the `root` of a binary tree, determine if it is a valid binary search tree (BST).\n",
    "\n",
    "A valid BST is defined as follows:\n",
    "\n",
    "- The left subtree of a node contains only nodes with keys less than the node's key.\n",
    "- The right subtree of a node contains only nodes with keys greater than the node's key.\n",
    "- Both the left and right subtrees must also be binary search trees.\n",
    "\n",
    "**Example 1:**\n",
    "\n",
    "```\n",
    "Input: root = [2,1,3]\n",
    "Output: true\n",
    "```\n",
    "\n",
    "Example 1 Tree Structure:\n",
    "\n",
    "```\n",
    "   2\n",
    "  / \\\n",
    " 1   3\n",
    "```\n",
    "\n",
    "**Example 2:**\n",
    "\n",
    "```\n",
    "Input: root = [5,1,4,null,null,3,6]\n",
    "Output: false\n",
    "Explanation: The root node's value is 5 but its right child's value is 4.\n",
    "```\n",
    "\n",
    "Example 2 Tree Structure:\n",
    "\n",
    "```\n",
    "    5\n",
    "   / \\\n",
    "  1   4\n",
    "     / \\\n",
    "    3   6\n",
    "```\n",
    "\n",
    "**Constraints:**\n",
    "\n",
    "- The number of nodes in the tree is in the range [1, 10^4].\n",
    "- `-2^31 <= Node.val <= 2^31 - 1`"
   ]
  },
  {
   "cell_type": "markdown",
   "id": "4dbdb20a",
   "metadata": {},
   "source": [
    "### Solution"
   ]
  },
  {
   "cell_type": "code",
   "execution_count": 1,
   "id": "6adee9d2",
   "metadata": {},
   "outputs": [],
   "source": [
    "from tree import TreeNode\n",
    "\n",
    "\n",
    "class Solution:\n",
    "    def isValidBST(self, root: TreeNode) -> bool:\n",
    "        def valid(node, left, right):\n",
    "            if not node:\n",
    "                return True\n",
    "            if not (left < node.val < right):\n",
    "                return False\n",
    "\n",
    "            return (\n",
    "                valid(node.left, left, node.val) and valid(node.right, node.val, right)\n",
    "            )\n",
    "\n",
    "        return valid(root, float(\"-inf\"), float(\"inf\"))"
   ]
  },
  {
   "cell_type": "markdown",
   "id": "75159bc2",
   "metadata": {},
   "source": [
    "### Test"
   ]
  },
  {
   "cell_type": "code",
   "execution_count": 2,
   "id": "15210f9b",
   "metadata": {},
   "outputs": [],
   "source": [
    "for root, result in [\n",
    "    (TreeNode(2, TreeNode(1), TreeNode(3)), True),\n",
    "    (TreeNode(5, TreeNode(1), TreeNode(4, TreeNode(3), TreeNode(6))), False),\n",
    "    (TreeNode(1, TreeNode(1)), False),\n",
    "    (TreeNode(5, TreeNode(4), TreeNode(6, TreeNode(3), TreeNode(7))), False),\n",
    "]:\n",
    "    prediction = Solution().isValidBST(root)\n",
    "    assert prediction == result, f\"{prediction} != {result} for {root}\""
   ]
  },
  {
   "cell_type": "markdown",
   "id": "1014ac2b",
   "metadata": {},
   "source": [
    "### References\n",
    "\n",
    "- [Leetcode](https://leetcode.com/problems/validate-binary-search-tree/)\n",
    "- [Neetcode - Youtube](https://youtu.be/s6ATEkipzow?list=PLot-Xpze53ldVwtstag2TL4HQhAnC8ATf)\n",
    "- [Neetcode - Github](https://github.com/neetcode-gh/leetcode/blob/main/python/0098-validate-binary-search-tree.py)"
   ]
  }
 ],
 "metadata": {
  "kernelspec": {
   "display_name": "venv",
   "language": "python",
   "name": "python3"
  },
  "language_info": {
   "codemirror_mode": {
    "name": "ipython",
    "version": 3
   },
   "file_extension": ".py",
   "mimetype": "text/x-python",
   "name": "python",
   "nbconvert_exporter": "python",
   "pygments_lexer": "ipython3",
   "version": "3.10.13"
  }
 },
 "nbformat": 4,
 "nbformat_minor": 5
}
